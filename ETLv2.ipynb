{
  "cells": [
    {
      "cell_type": "markdown",
      "metadata": {
        "id": "view-in-github",
        "colab_type": "text"
      },
      "source": [
        "<a href=\"https://colab.research.google.com/github/Chiwidude/ETL-EstimadorRiesgo/blob/dscience/ETLv2.ipynb\" target=\"_parent\"><img src=\"https://colab.research.google.com/assets/colab-badge.svg\" alt=\"Open In Colab\"/></a>"
      ]
    },
    {
      "cell_type": "markdown",
      "metadata": {
        "id": "txnQ6q5OCBRk"
      },
      "source": [
        "# **Preparación de Entorno**"
      ]
    },
    {
      "cell_type": "code",
      "execution_count": null,
      "metadata": {
        "id": "XyalqPILEVtX"
      },
      "outputs": [],
      "source": [
        "#ejecutar sino se tienen instaladas estas librerías\n",
        "!pip install -U scikit-learn\n",
        "!pip install scikit-learn-intelex\n",
        "!pip install -U imbalanced-learn\n",
        "!pip install xgboost\n",
        "!pip install seaborn\n",
        "!pip install Pyspatialml\n",
        "!pip install scikit-learn-intelex\n",
        "!pip install scikit-optimize"
      ]
    },
    {
      "cell_type": "code",
      "execution_count": null,
      "metadata": {
        "id": "eX1vN-wssNq7"
      },
      "outputs": [],
      "source": [
        "from pyspatialml import Raster\n",
        "import pandas as pd\n",
        "import geopandas as gpd\n",
        "import rasterio\n",
        "import rasterio.plot\n",
        "import matplotlib.pyplot as plt\n",
        "import seaborn as sns\n",
        "import numpy as np"
      ]
    },
    {
      "cell_type": "markdown",
      "metadata": {
        "id": "tPDNQYJXDze8"
      },
      "source": [
        "# Conjuntos de datos variables independientes"
      ]
    },
    {
      "cell_type": "code",
      "execution_count": null,
      "metadata": {
        "id": "SBj1cikktjwS"
      },
      "outputs": [],
      "source": [
        "#Datos variables independendientes\n",
        "\n",
        "files = [\"drive/MyDrive/Tesis/raster_curvatura/curvatura_r.tif\",\"drive/MyDrive/Tesis/raster_elevacion/elevacion_r.tif\",\"drive/MyDrive/Tesis/raster_pendiente/pendiente_r.tif\",\"drive/MyDrive/Tesis/raster_perfil_curvatura/perfilc_r.tif\",\n",
        "         \"drive/MyDrive/Tesis/raster_lluvia/lluvia_r.tif\",\"drive/MyDrive/Tesis/raster_cobertura/cobertura_r.tif\"]\n",
        "rasters =Raster(files)"
      ]
    },
    {
      "cell_type": "code",
      "execution_count": null,
      "metadata": {
        "id": "-iqK67MPd4qx"
      },
      "outputs": [],
      "source": [
        "#Datos deslizamientos\n",
        "raster_desli = rasterio.open('drive/MyDrive/Tesis/deslizamientos/raster/desli_lim.tif')"
      ]
    },
    {
      "cell_type": "code",
      "execution_count": null,
      "metadata": {
        "id": "Z7Q_NfijbmG4"
      },
      "outputs": [],
      "source": [
        "rasters.bounds"
      ]
    },
    {
      "cell_type": "code",
      "execution_count": null,
      "metadata": {
        "id": "0tWoKfsLB6uS"
      },
      "outputs": [],
      "source": [
        "fig, ax = plt.subplots(figsize=(9, 9))\n",
        "\n",
        "rasters.cobertura_r.plot(ax=ax)\n",
        "rasterio.plot.show(raster_desli, ax=ax)\n",
        "plt.show()"
      ]
    },
    {
      "cell_type": "code",
      "execution_count": null,
      "metadata": {
        "id": "7b_4H4Lu75jb"
      },
      "outputs": [],
      "source": [
        "#Limpieza de datos NA\n",
        "extracted_df = rasters.extract_raster(raster_desli)\n",
        "\n",
        "extracted_df.dropna(inplace=True)\n",
        "extracted_df"
      ]
    },
    {
      "cell_type": "markdown",
      "metadata": {
        "id": "AvDaacymxnPp"
      },
      "source": [
        "# Pipeline Ciencia de Datos (ML)"
      ]
    },
    {
      "cell_type": "code",
      "source": [
        "#Data Spliting inicial\n",
        "#Sobremuestreo de datos\n",
        "from sklearnex import patch_sklearn \n",
        "patch_sklearn()\n",
        "from imblearn.over_sampling import SMOTE, BorderlineSMOTE, SVMSMOTE\n",
        "from sklearn.model_selection import train_test_split, RandomizedSearchCV, GridSearchCV,cross_validate\n",
        "from sklearn.preprocessing import StandardScaler\n",
        "from sklearn.pipeline import Pipeline\n",
        "from skopt import BayesSearchCV\n",
        "from sklearn import svm\n",
        "from sklearn.ensemble import RandomForestClassifier\n",
        "from sklearn.preprocessing import StandardScaler\n",
        "from sklearn.pipeline import Pipeline\n",
        "from sklearn.metrics import accuracy_score, confusion_matrix, classification_report, roc_curve, roc_auc_score"
      ],
      "metadata": {
        "id": "rWEvuStjdfZ7"
      },
      "execution_count": null,
      "outputs": []
    },
    {
      "cell_type": "markdown",
      "metadata": {
        "id": "sL8pZp23fxqd"
      },
      "source": [
        "## Random Forest"
      ]
    },
    {
      "cell_type": "code",
      "source": [
        "#variables independientes\n",
        "X = extracted_df.drop(columns=['value','geometry']).values\n",
        "\n",
        "#variable dependiente (deslizamientos)\n",
        "Y = extracted_df['value'].values\n",
        "\n",
        "smote = SMOTE(random_state=30, n_jobs=-1)\n",
        "\n",
        "X_smote, Y_smote = smote.fit_resample(X,Y)\n",
        "\n",
        "x_train, x_test, y_train, y_test = train_test_split(X_smote,Y_smote,test_size=0.2, random_state=30)"
      ],
      "metadata": {
        "id": "hzjntQogF194"
      },
      "execution_count": null,
      "outputs": []
    },
    {
      "cell_type": "code",
      "execution_count": null,
      "metadata": {
        "id": "9sSbL_zndCGE"
      },
      "outputs": [],
      "source": [
        "#Búsqueda mejor ajuste hiperparámetros\n",
        "base_classifier = RandomForestClassifier()\n",
        "\n",
        "n_estimators = [100,250,500,750,1000,1200]\n",
        "\n",
        "max_depth = [50,100, 250, 350, 500]\n",
        "\n",
        "min_samples_split = [5, 10, 15, 20, 30]\n",
        "\n",
        "min_samples_leaf = [2,4,6,10]\n",
        "\n",
        "max_leaf_nodes= [20, 50, 100,150,200]\n",
        "\n",
        "\n",
        "\n",
        "params_grid = {'n_estimators':n_estimators,\n",
        "               'max_depth':max_depth,\n",
        "               'min_samples_split':min_samples_split,\n",
        "               'min_samples_leaf':min_samples_leaf,\n",
        "              'max_leaf_nodes':max_leaf_nodes}\n",
        "\n",
        "rf_sampled = GridSearchCV(estimator=base_classifier,\n",
        "                                param_grid=params_grid,\n",
        "                                cv=5, verbose=2, n_jobs = -1,\n",
        "                                return_train_score=True,\n",
        "                          scoring=['f1','precision','recall'],\n",
        "                          refit='recall'                 \n",
        "                                )\n",
        "\n",
        "rf_sampled.fit(x_train, y_train)"
      ]
    },
    {
      "cell_type": "code",
      "source": [
        "params = {'n_estimators':500,\n",
        "               'max_depth':250,\n",
        "               'min_samples_split':5,\n",
        "               'min_samples_leaf':4,\n",
        "              'max_leaf_nodes':50}\n",
        "\n",
        "params['n_jobs'] = -1\n",
        "\n",
        "params"
      ],
      "metadata": {
        "id": "7sFns9UpdLFk"
      },
      "execution_count": null,
      "outputs": []
    },
    {
      "cell_type": "markdown",
      "source": [
        "### Entrenamiento Hiperparámetros ajustados\n"
      ],
      "metadata": {
        "id": "p3NBPj7uxOGM"
      }
    },
    {
      "cell_type": "code",
      "source": [
        "classifier = RandomForestClassifier(**params)\n",
        "\n",
        "rf = Pipeline(\n",
        "    [('scaling', StandardScaler()),\n",
        "        ('classifier', classifier)])\n",
        "\n",
        "rf.fit(x_train, y_train)"
      ],
      "metadata": {
        "id": "WHs59rL4kCHY"
      },
      "execution_count": null,
      "outputs": []
    },
    {
      "cell_type": "code",
      "execution_count": null,
      "metadata": {
        "id": "wF4B2RSAj1ft"
      },
      "outputs": [],
      "source": [
        "#Resultados predicción\n",
        "result_rf = rasters.predict(estimator=rf,file_path=\"drive/MyDrive/Tesis/prediction.tif\", progress=True)\n",
        "\n",
        "result_probs = rasters.predict_proba(estimator=rf, progress=True)"
      ]
    },
    {
      "cell_type": "code",
      "source": [
        "#Plot mapa predicciones\n",
        "fig, ax = plt.subplots(figsize=(9, 9))\n",
        "\n",
        "result_rf.iloc[0].cmap = \"Dark2\"\n",
        "result_rf.iloc[0].categorical = True\n",
        "result_rf.iloc[0].plot(ax=ax, legend=True, categorical=True)\n",
        "plt.show()"
      ],
      "metadata": {
        "id": "cQ7dAU4Gkcu6"
      },
      "execution_count": null,
      "outputs": []
    },
    {
      "cell_type": "code",
      "source": [
        "y_pred_ajustado = rf.predict(x_test)\n",
        "\n",
        "y_ajustado_proba = rf.predict_proba(x_test)[::,1]"
      ],
      "metadata": {
        "id": "X80kEeqzxFaY"
      },
      "execution_count": null,
      "outputs": []
    },
    {
      "cell_type": "code",
      "execution_count": null,
      "metadata": {
        "id": "Gq2x0Dw3j5i7"
      },
      "outputs": [],
      "source": [
        "result_rf = rasters.predict(estimator=rf)\n",
        "\n",
        "result_probs = rasters.predict_proba(estimator=rf)"
      ]
    },
    {
      "cell_type": "markdown",
      "source": [
        "### Entrenamiento Hiperparámetros default\n"
      ],
      "metadata": {
        "id": "Hv3Xp1iBxHVw"
      }
    },
    {
      "cell_type": "code",
      "execution_count": null,
      "metadata": {
        "id": "HFLHoKTUw3gH"
      },
      "outputs": [],
      "source": [
        "b_classifier = RandomForestClassifier(n_jobs=-1)\n",
        "\n",
        "brf = Pipeline([('scaling', StandardScaler()),\n",
        "        ('classifier', b_classifier)])\n",
        "\n",
        "brf.fit(x_train, y_train)"
      ]
    },
    {
      "cell_type": "code",
      "execution_count": null,
      "metadata": {
        "id": "A6RDIk_p5_Cw"
      },
      "outputs": [],
      "source": [
        "#Resultados predicción\n",
        "result_rf = rasters.predict(estimator=brf, progress=True)\n",
        "\n",
        "result_probs = rasters.predict_proba(estimator=brf, progress=True)"
      ]
    },
    {
      "cell_type": "code",
      "source": [
        "#Plot mapa predicciones\n",
        "fig, ax = plt.subplots(figsize=(9, 9))\n",
        "\n",
        "result_rf.iloc[0].cmap = \"Dark2\"\n",
        "result_rf.iloc[0].categorical = True\n",
        "result_rf.iloc[0].plot(ax=ax, legend=True)\n",
        "plt.show()"
      ],
      "metadata": {
        "id": "pGiUdxrDxZtz"
      },
      "execution_count": null,
      "outputs": []
    },
    {
      "cell_type": "code",
      "source": [
        "y_pred_base = brf.predict(x_test)\n",
        "\n",
        "y_pbase_proba = brf.predict_proba(x_test)[::,1]"
      ],
      "metadata": {
        "id": "am4R2aSexar_"
      },
      "execution_count": null,
      "outputs": []
    },
    {
      "cell_type": "markdown",
      "source": [
        "### Métricas"
      ],
      "metadata": {
        "id": "-wYzMaZHFHyJ"
      }
    },
    {
      "cell_type": "code",
      "source": [
        "def plot_result(x_label, y_label, train_data, val_data, ax):\n",
        "        '''Función para graficar un gráfico de barras agrupado mostrando datos de entrenamiento y validación\n",
        "          resultantes del modelo en cada iteración aplicando validación cruzada de k -iteraciones.\n",
        "         Parametros\n",
        "         ----------\n",
        "         x_label: str, \n",
        "            Nombre del algoritmo utilizado. ej:Random Forest\n",
        "          \n",
        "         y_label: str, \n",
        "            Nombre de la métrica a visualizar. ej: precisión\n",
        "         plot_title: str, \n",
        "            Título del gráfico. ej: 'Precisión del modelo'\n",
        "         \n",
        "         train_result: list, array\n",
        "            Resultados de la métrica en fase de entrenamiento del modelo en la validación cruzada.\n",
        "        \n",
        "         val_result: list, array\n",
        "            Resultados de la métrica en fase de validación del modelo en la validación cruzada.\n",
        "         Returns\n",
        "         -------\n",
        "         Gráfico de barras agrupado mostrando el resultado de la métrica deseada en cada iteración.\n",
        "        '''\n",
        "        \n",
        "        labels = [\"1st Fold\", \"2nd Fold\", \"3rd Fold\", \"4th Fold\", \"5th Fold\"]\n",
        "        X_axis = np.arange(len(labels))\n",
        "        ax.bar(X_axis-0.2, train_data, 0.4, color='blue', label='Training')\n",
        "        for x,y in zip(X_axis-0.2, train_data):\n",
        "            label = \"{:.2f}\".format(y)\n",
        "            ax.annotate(label,\n",
        "                       (x,y),\n",
        "                 textcoords=\"offset points\",\n",
        "                 xytext=(0,2),\n",
        "                 ha='center',\n",
        "                       fontsize=10)\n",
        "        ax.bar(X_axis+0.2, val_data, 0.4, color='red', label='Validation')\n",
        "        for x,y in zip(X_axis+0.2, val_data):\n",
        "            label = \"{:.3f}\".format(y)\n",
        "            ax.annotate(label,\n",
        "                       (x,y),\n",
        "                 textcoords=\"offset points\",\n",
        "                 xytext=(0,10),\n",
        "                 ha='center',\n",
        "                       fontsize=10)\n",
        "        ax.set_xticks(X_axis, labels)\n",
        "        ax.set_xlabel(x_label, fontsize=10)\n",
        "        ax.set_ylabel(y_label, fontsize=12)\n",
        "        ax.legend(fontsize=10)\n",
        "        ax.grid(True)"
      ],
      "metadata": {
        "id": "TxOhFHwiFKT-"
      },
      "execution_count": null,
      "outputs": []
    },
    {
      "cell_type": "code",
      "source": [
        "from sklearn.metrics import accuracy_score, confusion_matrix, classification_report, roc_curve, roc_auc_score"
      ],
      "metadata": {
        "id": "0ANNpyU09YKs"
      },
      "execution_count": null,
      "outputs": []
    },
    {
      "cell_type": "markdown",
      "source": [
        "#### Matríz de Confusión + Métricas"
      ],
      "metadata": {
        "id": "TN3WKIZf-FLf"
      }
    },
    {
      "cell_type": "code",
      "source": [
        "#Matriz de confusión parámetros default\n",
        "matrix = confusion_matrix(y_test, y_pred_base)\n",
        "matrix = matrix.astype('float') / matrix.sum(axis=1)[:,np.newaxis]\n",
        "\n",
        "plt.figure(figsize=(16,7))\n",
        "sns.set(font_scale=1.4)\n",
        "sns.heatmap(matrix, annot=True, annot_kws={'size':10},\n",
        "            cmap=plt.cm.Oranges, linewidths=0.2)\n",
        "\n",
        "\n",
        "class_names = ['no deslizamiento','deslizamiento']\n",
        "tick_marks = np.arange(len(class_names)) + 0.4\n",
        "tick_marks2 = tick_marks + 0.5\n",
        "plt.xticks(tick_marks, class_names, rotation=0)\n",
        "plt.yticks(tick_marks2, class_names, rotation=0)\n",
        "plt.xlabel('Clase predecida')\n",
        "plt.ylabel('Clase real')\n",
        "plt.title('Matriz de Confusión Random Forest (param default)')\n",
        "plt.show()"
      ],
      "metadata": {
        "id": "1dC58xwc9aem"
      },
      "execution_count": null,
      "outputs": []
    },
    {
      "cell_type": "code",
      "source": [
        "#Resultado métricas de clasificación modelo parámetros pred.\n",
        "print(classification_report(y_test, y_pred_base,digits=5))"
      ],
      "metadata": {
        "id": "5cVIPlrp9maA"
      },
      "execution_count": null,
      "outputs": []
    },
    {
      "cell_type": "code",
      "source": [
        "#Matriz de confusión parámetros ajustados\n",
        "matrix = confusion_matrix(y_test, y_pred_ajustado)\n",
        "matrix = matrix.astype('float') / matrix.sum(axis=1)[:,np.newaxis]\n",
        "\n",
        "plt.figure(figsize=(16,7))\n",
        "sns.set(font_scale=1.4)\n",
        "sns.heatmap(matrix, annot=True, annot_kws={'size':10},\n",
        "            cmap=plt.cm.Blues, linewidths=0.2)\n",
        "\n",
        "# Add labels to the plot\n",
        "class_names = ['no deslizamiento','deslizamiento']\n",
        "tick_marks = np.arange(len(class_names)) + 0.4\n",
        "tick_marks2 = tick_marks + 0.5\n",
        "plt.xticks(tick_marks, class_names, rotation=0)\n",
        "plt.yticks(tick_marks2, class_names, rotation=0)\n",
        "plt.xlabel('Clase predecida')\n",
        "plt.ylabel('Clase real')\n",
        "plt.title('Matriz de Confusión Random Forest (param ajustados)')\n",
        "plt.show()"
      ],
      "metadata": {
        "id": "khIYekVg9su8"
      },
      "execution_count": null,
      "outputs": []
    },
    {
      "cell_type": "code",
      "source": [
        "#Resultado métricas de clasificación modelo parámetros ajustados\n",
        "print(classification_report(y_test, y_pred_ajustado, digits=5))"
      ],
      "metadata": {
        "id": "nE-MGzj09uSf"
      },
      "execution_count": null,
      "outputs": []
    },
    {
      "cell_type": "markdown",
      "source": [
        "#### AUC - ROC"
      ],
      "metadata": {
        "id": "lk_yaJw1-NDi"
      }
    },
    {
      "cell_type": "code",
      "source": [
        "#Comparativa gráficos AUC-ROC RF\n",
        "\n",
        "fpr, tpr, _ = roc_curve(y_test, y_pbase_proba)\n",
        "\n",
        "auc = roc_auc_score(y_test, y_pbase_proba)\n",
        "\n",
        "#curva ROC parámetros pred.\n",
        "\n",
        "fig, axes = plt.subplots(nrows=1, ncols=2, figsize= (16,6))\n",
        "\n",
        "axes[0].plot(fpr,tpr,label=\"AUC=\"+str(auc))\n",
        "axes[0].set_title('default params')\n",
        "axes[0].set_ylabel('True Positive Rate')\n",
        "axes[0].set_xlabel('False Positive Rate')\n",
        "axes[0].legend(loc=4)\n",
        "\n",
        "fpr, tpr, _ = roc_curve(y_test, y_ajustado_proba)\n",
        "\n",
        "auc2 = roc_auc_score(y_test, y_ajustado_proba)\n",
        "\n",
        "#curva ROC parámetros ajustados\n",
        "\n",
        "axes[1].plot(fpr,tpr,label=\"AUC=\"+str(auc2))\n",
        "axes[1].set_title('params ajustados')\n",
        "axes[1].set_ylabel('True Positive Rate')\n",
        "axes[1].set_xlabel('False Positive Rate')\n",
        "axes[1].legend(loc=4)\n",
        "plt.show()"
      ],
      "metadata": {
        "id": "p7QfuwK39z8m"
      },
      "execution_count": null,
      "outputs": []
    },
    {
      "cell_type": "markdown",
      "source": [
        "#### Validación Cruzada k - iteraciones"
      ],
      "metadata": {
        "id": "P0JmBrbK-QIp"
      }
    },
    {
      "cell_type": "code",
      "source": [
        "#Validación modelo parámetros pred.\n",
        "base_scores = cross_validate(\n",
        "    estimator=brf,\n",
        "    X=x_test,\n",
        "    y=y_test,\n",
        "    scoring=['accuracy', 'precision', 'recall', 'f1'],\n",
        "    cv=5,\n",
        "    return_train_score=True\n",
        ")\n",
        "\n",
        "for i, item in base_scores.items():\n",
        "    print(f'{i} media: {item.mean()}')"
      ],
      "metadata": {
        "id": "LJXvoFYX98Fz"
      },
      "execution_count": null,
      "outputs": []
    },
    {
      "cell_type": "code",
      "source": [
        "#Validación modelo parámetros ajustados\n",
        "scores = cross_validate(\n",
        "    estimator=rf,\n",
        "    X=x_test,\n",
        "    y=y_test,\n",
        "    scoring=['accuracy', 'precision', 'recall', 'f1'],\n",
        "    cv=5,\n",
        "    return_train_score=True\n",
        ")\n",
        "\n",
        "for i, item in scores.items():\n",
        "    print(f'{i} media: {item.mean()}')"
      ],
      "metadata": {
        "id": "OrOx6uuS-V_X"
      },
      "execution_count": null,
      "outputs": []
    },
    {
      "cell_type": "code",
      "source": [
        "#Plot comparativa validación cruzada k - iteraciones RF\n",
        "figure, axes = plt.subplots(nrows=4, ncols=2, figsize=(12,12))\n",
        "\n",
        "metrics = ['accuracy', 'precision','recall','f1']\n",
        "\n",
        "figure.suptitle('5-fold Validation', fontsize=24, fontweight='bold')\n",
        "\n",
        "for index, metric in enumerate(metrics):\n",
        "    pivot = 0\n",
        "    plot_result('Random Forest (default params) test mean:'+str(round(base_scores[f'test_{metric}'].mean(),5)),f'{metric.capitalize()}',base_scores[f'train_{metric}'],base_scores[f'test_{metric}'], axes[index,pivot])\n",
        "    pivot+=1\n",
        "    plot_result(f'Random Forest (params ajustados)  test mean:'+str(round(scores[f'test_{metric}'].mean(),5)),f'{metric.capitalize()}',scores[f'train_{metric}'],scores[f'test_{metric}'], axes[index,pivot])\n",
        "figure.tight_layout()\n",
        "plt.show()"
      ],
      "metadata": {
        "id": "OJpkVCMw-cox"
      },
      "execution_count": null,
      "outputs": []
    },
    {
      "cell_type": "markdown",
      "metadata": {
        "id": "5ERP86WOf5lU"
      },
      "source": [
        "## Support Vector Machine"
      ]
    },
    {
      "cell_type": "code",
      "source": [
        "#Data Spliting inicial\n",
        "#Sobremuestreo de datos\n",
        "from sklearnex import patch_sklearn \n",
        "patch_sklearn()\n",
        "from imblearn.over_sampling import SMOTE, BorderlineSMOTE, SVMSMOTE\n",
        "from sklearn.model_selection import train_test_split, RandomizedSearchCV, GridSearchCV\n",
        "from sklearn.preprocessing import StandardScaler\n",
        "from sklearn.pipeline import Pipeline\n",
        "from skopt import BayesSearchCV\n",
        "from sklearn import svm\n",
        "\n",
        "#Variables independientes\n",
        "X = extracted_df.drop(columns=['value','geometry']).values\n",
        "#Variable dependiente (deslizamientos)\n",
        "Y = extracted_df['value'].values\n",
        "\n",
        "smote = SMOTE(random_state=30, n_jobs=-1)\n",
        "\n",
        "X_smote, Y_smote = smote.fit_resample(X,Y)\n",
        "\n",
        "x_train, x_test, y_train, y_test = train_test_split(X_smote,Y_smote,test_size=0.2, random_state=30)"
      ],
      "metadata": {
        "id": "Lmw1L5Ynlkrw"
      },
      "execution_count": null,
      "outputs": []
    },
    {
      "cell_type": "code",
      "source": [
        "scaler = StandardScaler()\n",
        "Xtrain = scaler.fit_transform(x_train)"
      ],
      "metadata": {
        "id": "vIjp-q9BGFQy"
      },
      "execution_count": null,
      "outputs": []
    },
    {
      "cell_type": "code",
      "source": [
        "#Búsqueda hiperparámetros\n",
        "param_grid = {'C': [1,2,2.5,3,4,5],\n",
        "              'gamma': [1,1.25,1.50,1.75],\n",
        "              'kernel': ['rbf','linear','sigmoid'],\n",
        "             'cache_size':[1000]}\n",
        "base_svm = svm.SVC()\n",
        "\n",
        "grid = GridSearchCV(base_svm,param_grid, n_jobs = -1,                                \n",
        "                          scoring=['f1','precision','recall'], cv=5,\n",
        "                          refit='recall', verbose=2)\n",
        "\n",
        "grid.fit(Xtrain, y_train)"
      ],
      "metadata": {
        "id": "6zzCDZPlfg3Q"
      },
      "execution_count": null,
      "outputs": []
    },
    {
      "cell_type": "code",
      "source": [
        "params_svm = grid.best_params_\n",
        "params_svm"
      ],
      "metadata": {
        "id": "etslTImNxrhJ"
      },
      "execution_count": null,
      "outputs": []
    },
    {
      "cell_type": "markdown",
      "source": [
        "### Entrenamiento Hiperparámetros ajustados"
      ],
      "metadata": {
        "id": "HU_9MGH7ECU7"
      }
    },
    {
      "cell_type": "code",
      "execution_count": null,
      "metadata": {
        "id": "Pa88aKw8f_Qe"
      },
      "outputs": [],
      "source": [
        "svmc = svm.SVC(**params_svm, probability=True)\n",
        "\n",
        "svc = Pipeline(\n",
        "    [('scaling', StandardScaler()),\n",
        "        ('classifier', svmc)])\n",
        "\n",
        "svc.fit(x_train, y_train)"
      ]
    },
    {
      "cell_type": "code",
      "execution_count": null,
      "metadata": {
        "id": "sNFIxTl_lLjs"
      },
      "outputs": [],
      "source": [
        "#Resultado Predicción\n",
        "result = rasters.predict(estimator=svc, progress=True)\n",
        "\n",
        "result_probs = rasters.predict_proba(estimator=svc, progress=True)"
      ]
    },
    {
      "cell_type": "code",
      "execution_count": null,
      "metadata": {
        "id": "L5ZhhXmulLY5"
      },
      "outputs": [],
      "source": [
        "#Plot mapa con predicciones\n",
        "fig, ax = plt.subplots(figsize=(9, 9))\n",
        "\n",
        "result.iloc[0].cmap = \"Dark2\"\n",
        "result.iloc[0].categorical = True\n",
        "result.pred_raw_0.plot(ax=ax, legend=True)\n",
        "plt.show()"
      ]
    },
    {
      "cell_type": "code",
      "execution_count": null,
      "metadata": {
        "id": "setoRHnk_yZq"
      },
      "outputs": [],
      "source": [
        "y_pred_svm = svc.predict(x_test)\n",
        "\n",
        "y_svm_proba = svc.predict_proba(x_test)[::,1]"
      ]
    },
    {
      "cell_type": "markdown",
      "source": [
        "### Entrenamiento parámetros default"
      ],
      "metadata": {
        "id": "V78Ouz5IEelm"
      }
    },
    {
      "cell_type": "code",
      "execution_count": null,
      "metadata": {
        "id": "H24Omu2A_28z"
      },
      "outputs": [],
      "source": [
        "base_svm = svm.SVC(probability=True)\n",
        "base_svm = Pipeline(\n",
        "    [('scaling', StandardScaler()),\n",
        "        ('classifier', base_svm)])\n",
        "\n",
        "\n",
        "base_svm.fit(x_train, y_train)"
      ]
    },
    {
      "cell_type": "code",
      "source": [
        "#Resultados predicción\n",
        "result = rasters.predict(estimator=base_svm, progress=True)\n",
        "\n",
        "result_probs = rasters.predict_proba(estimator=base_svm, progress=True)"
      ],
      "metadata": {
        "id": "ubYeeO6qEj-2"
      },
      "execution_count": null,
      "outputs": []
    },
    {
      "cell_type": "code",
      "source": [
        "#Plot mapa predicciones\n",
        "fig, ax = plt.subplots(figsize=(9, 9))\n",
        "\n",
        "result.iloc[0].cmap = \"Dark2\"\n",
        "result.iloc[0].categorical = True\n",
        "result.pred_raw_0.plot(ax=ax, legend=True)\n",
        "plt.show()"
      ],
      "metadata": {
        "id": "vy27An1RElZi"
      },
      "execution_count": null,
      "outputs": []
    },
    {
      "cell_type": "code",
      "source": [
        "y_pred_svmb = base_svm.predict(x_test)\n",
        "\n",
        "y_svmb_proba = base_svm.predict_proba(x_test)[::,1]"
      ],
      "metadata": {
        "id": "MgsAq4-yEoFb"
      },
      "execution_count": null,
      "outputs": []
    },
    {
      "cell_type": "markdown",
      "source": [
        "### Métricas"
      ],
      "metadata": {
        "id": "FaGPqVunEqYc"
      }
    },
    {
      "cell_type": "markdown",
      "source": [
        "#### Matríz de Confusión + métricas"
      ],
      "metadata": {
        "id": "FZkq8jIy_Uey"
      }
    },
    {
      "cell_type": "code",
      "source": [
        "#Resultado métricas de validación modelo params. pred.\n",
        "print(classification_report(y_test, y_pred_svm,digits=5))"
      ],
      "metadata": {
        "id": "wI2eB4inE01A"
      },
      "execution_count": null,
      "outputs": []
    },
    {
      "cell_type": "code",
      "source": [
        "#Resultado métricas de validación modelo params. ajustados\n",
        "print(classification_report(y_test, y_pred_svmb,digits=5))"
      ],
      "metadata": {
        "id": "ZSUyZ_KcE1t0"
      },
      "execution_count": null,
      "outputs": []
    },
    {
      "cell_type": "code",
      "source": [
        "#Matriz confusión modelo params. predeterminados\n",
        "matrix = confusion_matrix(y_test, y_pred_svmb)\n",
        "matrix = matrix.astype('float') / matrix.sum(axis=1)[:,np.newaxis]\n",
        "\n",
        "plt.figure(figsize=(16,7))\n",
        "sns.set(font_scale=1.4)\n",
        "sns.heatmap(matrix, annot=True, annot_kws={'size':10},\n",
        "            cmap=plt.cm.Oranges, linewidths=0.2)\n",
        "\n",
        "class_names = ['no deslizamiento','deslizamiento']\n",
        "tick_marks = np.arange(len(class_names)) + 0.4\n",
        "tick_marks2 = tick_marks + 0.5\n",
        "plt.xticks(tick_marks, class_names, rotation=0)\n",
        "plt.yticks(tick_marks2, class_names, rotation=0)\n",
        "plt.xlabel('Clase predecida')\n",
        "plt.ylabel('Clase real')\n",
        "plt.title('Matriz de Confusión SVM (param default)')\n",
        "plt.show()"
      ],
      "metadata": {
        "id": "HJpirsKoE2uU"
      },
      "execution_count": null,
      "outputs": []
    },
    {
      "cell_type": "code",
      "source": [
        "#Matriz confusión modelo params. predeterminados\n",
        "matrix = confusion_matrix(y_test, y_pred_svm)\n",
        "matrix = matrix.astype('float') / matrix.sum(axis=1)[:,np.newaxis]\n",
        "\n",
        "plt.figure(figsize=(16,7))\n",
        "sns.set(font_scale=1.4)\n",
        "sns.heatmap(matrix, annot=True, annot_kws={'size':10},\n",
        "            cmap=plt.cm.Blues, linewidths=0.2)\n",
        "\n",
        "\n",
        "class_names = ['no deslizamiento','deslizamiento']\n",
        "tick_marks = np.arange(len(class_names)) + 0.4\n",
        "tick_marks2 = tick_marks + 0.5\n",
        "plt.xticks(tick_marks, class_names, rotation=0)\n",
        "plt.yticks(tick_marks2, class_names, rotation=0)\n",
        "plt.xlabel('Clase predecida')\n",
        "plt.ylabel('Clase real')\n",
        "plt.title('Matriz de Confusión SVM (param ajustados)')\n",
        "plt.show()"
      ],
      "metadata": {
        "id": "E6WXvq_jE4kw"
      },
      "execution_count": null,
      "outputs": []
    },
    {
      "cell_type": "markdown",
      "source": [
        "#### AUC - ROC"
      ],
      "metadata": {
        "id": "RrS62mVH_d2U"
      }
    },
    {
      "cell_type": "code",
      "source": [
        "#Gráfico comparativa AUC - ROC\n",
        "fpr, tpr, _ = roc_curve(y_test, y_svmb_proba)\n",
        "\n",
        "auc = roc_auc_score(y_test, y_svmb_proba)\n",
        "\n",
        "#curva ROC modelo parámetros default\n",
        "\n",
        "fig, axes = plt.subplots(nrows=1, ncols=2, figsize= (16,6))\n",
        "\n",
        "axes[0].plot(fpr,tpr,label=\"AUC=\"+str(auc))\n",
        "axes[0].set_title('default params')\n",
        "axes[0].set_ylabel('True Positive Rate')\n",
        "axes[0].set_xlabel('False Positive Rate')\n",
        "axes[0].legend(loc=4)\n",
        "\n",
        "fpr, tpr, _ = roc_curve(y_test, y_svm_proba)\n",
        "\n",
        "auc2 = roc_auc_score(y_test, y_svm_proba)\n",
        "\n",
        "#curva ROC modelo parámetros ajustados\n",
        "\n",
        "axes[1].plot(fpr,tpr,label=\"AUC=\"+str(auc2))\n",
        "axes[1].set_title('params ajustados')\n",
        "axes[1].set_ylabel('True Positive Rate')\n",
        "axes[1].set_xlabel('False Positive Rate')\n",
        "axes[1].legend(loc=4)\n",
        "plt.show()"
      ],
      "metadata": {
        "id": "fh9eBvYvE6Cl"
      },
      "execution_count": null,
      "outputs": []
    },
    {
      "cell_type": "markdown",
      "source": [
        "#### Validación cruzada k-iteraciones"
      ],
      "metadata": {
        "id": "-gziyh06_m6-"
      }
    },
    {
      "cell_type": "code",
      "source": [
        "#Validación modelo parámetros pred.\n",
        "base_scores = cross_validate(\n",
        "    estimator=base_svm,\n",
        "    X=x_test,\n",
        "    y=y_test,\n",
        "    scoring=['accuracy', 'precision', 'recall', 'f1'],\n",
        "    cv=5,\n",
        "    return_train_score=True\n",
        ")\n",
        "\n",
        "for i, item in base_scores.items():\n",
        "    print(f'{i} media: {item.mean()}')"
      ],
      "metadata": {
        "id": "UsxnQgRCE7M8"
      },
      "execution_count": null,
      "outputs": []
    },
    {
      "cell_type": "code",
      "source": [
        "#Validación modelo parámetros ajustados\n",
        "scores = cross_validate(\n",
        "    estimator=svc,\n",
        "    X=x_test,\n",
        "    y=y_test,\n",
        "    scoring=['accuracy', 'precision', 'recall', 'f1'],\n",
        "    cv=5,\n",
        "    return_train_score=True\n",
        ")\n",
        "\n",
        "for i, item in scores.items():\n",
        "    print(f'{i} media: {item.mean()}')"
      ],
      "metadata": {
        "id": "sKxHZquSE8gX"
      },
      "execution_count": null,
      "outputs": []
    },
    {
      "cell_type": "code",
      "source": [
        "#Plot gráfico comparativa validación cruzada k-iteraciones\n",
        "figure, axes = plt.subplots(nrows=4, ncols=2, figsize=(12,12))\n",
        "\n",
        "metrics = ['accuracy', 'precision','recall','f1']\n",
        "\n",
        "figure.suptitle('5-fold Validation', fontsize=24, fontweight='bold')\n",
        "\n",
        "for index, metric in enumerate(metrics):\n",
        "    pivot = 0\n",
        "    plot_result('SVM (default params) test mean:'+str(round(base_scores[f'test_{metric}'].mean(),5)),f'{metric.capitalize()}',base_scores[f'train_{metric}'],base_scores[f'test_{metric}'], axes[index,pivot])\n",
        "    pivot+=1\n",
        "    plot_result(f'SVM (params ajustados)  test mean:'+str(round(scores[f'test_{metric}'].mean(),5)),f'{metric.capitalize()}',scores[f'train_{metric}'],scores[f'test_{metric}'], axes[index,pivot])\n",
        "figure.tight_layout()\n",
        "plt.show()"
      ],
      "metadata": {
        "id": "qwhX2xGwE9qv"
      },
      "execution_count": null,
      "outputs": []
    }
  ],
  "metadata": {
    "colab": {
      "provenance": [],
      "collapsed_sections": [
        "tPDNQYJXDze8",
        "sL8pZp23fxqd",
        "p3NBPj7uxOGM",
        "Hv3Xp1iBxHVw",
        "-wYzMaZHFHyJ"
      ],
      "mount_file_id": "1kYoCNBWqOKsY6RsRQbDbbWLX7yYskJJ9",
      "authorship_tag": "ABX9TyMlZbkdvqm1F++oSJ08Nsmt",
      "include_colab_link": true
    },
    "kernelspec": {
      "display_name": "Python 3",
      "name": "python3"
    },
    "language_info": {
      "name": "python"
    }
  },
  "nbformat": 4,
  "nbformat_minor": 0
}