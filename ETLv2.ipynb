{
  "cells": [
    {
      "cell_type": "markdown",
      "metadata": {
        "id": "view-in-github",
        "colab_type": "text"
      },
      "source": [
        "<a href=\"https://colab.research.google.com/github/Chiwidude/ETL-EstimadorRiesgo/blob/dscience/ETLv2.ipynb\" target=\"_parent\"><img src=\"https://colab.research.google.com/assets/colab-badge.svg\" alt=\"Open In Colab\"/></a>"
      ]
    },
    {
      "cell_type": "markdown",
      "metadata": {
        "id": "txnQ6q5OCBRk"
      },
      "source": [
        "# **Preparación de Entorno**"
      ]
    },
    {
      "cell_type": "code",
      "execution_count": null,
      "metadata": {
        "id": "XyalqPILEVtX",
        "colab": {
          "base_uri": "https://localhost:8080/"
        },
        "outputId": "96e4ffff-8d4f-4855-9903-4719a1cb6fd2"
      },
      "outputs": [
        {
          "output_type": "stream",
          "name": "stdout",
          "text": [
            "Looking in indexes: https://pypi.org/simple, https://us-python.pkg.dev/colab-wheels/public/simple/\n",
            "Requirement already satisfied: scikit-learn in /usr/local/lib/python3.7/dist-packages (1.0.2)\n",
            "Requirement already satisfied: scipy>=1.1.0 in /usr/local/lib/python3.7/dist-packages (from scikit-learn) (1.7.3)\n",
            "Requirement already satisfied: joblib>=0.11 in /usr/local/lib/python3.7/dist-packages (from scikit-learn) (1.2.0)\n",
            "Requirement already satisfied: threadpoolctl>=2.0.0 in /usr/local/lib/python3.7/dist-packages (from scikit-learn) (3.1.0)\n",
            "Requirement already satisfied: numpy>=1.14.6 in /usr/local/lib/python3.7/dist-packages (from scikit-learn) (1.21.6)\n",
            "Looking in indexes: https://pypi.org/simple, https://us-python.pkg.dev/colab-wheels/public/simple/\n",
            "Collecting scikit-learn-intelex\n",
            "  Downloading scikit_learn_intelex-2021.6.3-py37-none-manylinux1_x86_64.whl (87 kB)\n",
            "\u001b[K     |████████████████████████████████| 87 kB 3.2 MB/s \n",
            "\u001b[?25hCollecting daal4py==2021.6.3\n",
            "  Downloading daal4py-2021.6.3-py37-none-manylinux1_x86_64.whl (26.0 MB)\n",
            "\u001b[K     |████████████████████████████████| 26.0 MB 54.8 MB/s \n",
            "\u001b[?25hRequirement already satisfied: scikit-learn>=0.22 in /usr/local/lib/python3.7/dist-packages (from scikit-learn-intelex) (1.0.2)\n",
            "Collecting daal==2021.6.0\n",
            "  Downloading daal-2021.6.0-py2.py3-none-manylinux1_x86_64.whl (300.3 MB)\n",
            "\u001b[K     |████████████████████████████████| 300.3 MB 17 kB/s \n",
            "\u001b[?25hRequirement already satisfied: numpy>=1.15 in /usr/local/lib/python3.7/dist-packages (from daal4py==2021.6.3->scikit-learn-intelex) (1.21.6)\n",
            "Collecting tbb==2021.*\n",
            "  Downloading tbb-2021.7.1-py2.py3-none-manylinux1_x86_64.whl (4.0 MB)\n",
            "\u001b[K     |████████████████████████████████| 4.0 MB 39.3 MB/s \n",
            "\u001b[?25hRequirement already satisfied: scipy>=1.1.0 in /usr/local/lib/python3.7/dist-packages (from scikit-learn>=0.22->scikit-learn-intelex) (1.7.3)\n",
            "Requirement already satisfied: joblib>=0.11 in /usr/local/lib/python3.7/dist-packages (from scikit-learn>=0.22->scikit-learn-intelex) (1.2.0)\n",
            "Requirement already satisfied: threadpoolctl>=2.0.0 in /usr/local/lib/python3.7/dist-packages (from scikit-learn>=0.22->scikit-learn-intelex) (3.1.0)\n",
            "Installing collected packages: tbb, daal, daal4py, scikit-learn-intelex\n",
            "Successfully installed daal-2021.6.0 daal4py-2021.6.3 scikit-learn-intelex-2021.6.3 tbb-2021.7.1\n",
            "Looking in indexes: https://pypi.org/simple, https://us-python.pkg.dev/colab-wheels/public/simple/\n",
            "Requirement already satisfied: imbalanced-learn in /usr/local/lib/python3.7/dist-packages (0.8.1)\n",
            "Collecting imbalanced-learn\n",
            "  Downloading imbalanced_learn-0.9.1-py3-none-any.whl (199 kB)\n",
            "\u001b[K     |████████████████████████████████| 199 kB 5.5 MB/s \n",
            "\u001b[?25h  Downloading imbalanced_learn-0.9.0-py3-none-any.whl (199 kB)\n",
            "\u001b[K     |████████████████████████████████| 199 kB 38.3 MB/s \n",
            "\u001b[?25hRequirement already satisfied: scipy>=1.1.0 in /usr/local/lib/python3.7/dist-packages (from imbalanced-learn) (1.7.3)\n",
            "Requirement already satisfied: scikit-learn>=1.0.1 in /usr/local/lib/python3.7/dist-packages (from imbalanced-learn) (1.0.2)\n",
            "Requirement already satisfied: numpy>=1.14.6 in /usr/local/lib/python3.7/dist-packages (from imbalanced-learn) (1.21.6)\n",
            "Requirement already satisfied: threadpoolctl>=2.0.0 in /usr/local/lib/python3.7/dist-packages (from imbalanced-learn) (3.1.0)\n",
            "Requirement already satisfied: joblib>=0.11 in /usr/local/lib/python3.7/dist-packages (from imbalanced-learn) (1.2.0)\n",
            "Installing collected packages: imbalanced-learn\n",
            "  Attempting uninstall: imbalanced-learn\n",
            "    Found existing installation: imbalanced-learn 0.8.1\n",
            "    Uninstalling imbalanced-learn-0.8.1:\n",
            "      Successfully uninstalled imbalanced-learn-0.8.1\n",
            "Successfully installed imbalanced-learn-0.9.0\n",
            "Looking in indexes: https://pypi.org/simple, https://us-python.pkg.dev/colab-wheels/public/simple/\n",
            "Requirement already satisfied: xgboost in /usr/local/lib/python3.7/dist-packages (0.90)\n",
            "Requirement already satisfied: numpy in /usr/local/lib/python3.7/dist-packages (from xgboost) (1.21.6)\n",
            "Requirement already satisfied: scipy in /usr/local/lib/python3.7/dist-packages (from xgboost) (1.7.3)\n",
            "Looking in indexes: https://pypi.org/simple, https://us-python.pkg.dev/colab-wheels/public/simple/\n",
            "Requirement already satisfied: seaborn in /usr/local/lib/python3.7/dist-packages (0.11.2)\n",
            "Requirement already satisfied: scipy>=1.0 in /usr/local/lib/python3.7/dist-packages (from seaborn) (1.7.3)\n",
            "Requirement already satisfied: pandas>=0.23 in /usr/local/lib/python3.7/dist-packages (from seaborn) (1.3.5)\n",
            "Requirement already satisfied: matplotlib>=2.2 in /usr/local/lib/python3.7/dist-packages (from seaborn) (3.2.2)\n",
            "Requirement already satisfied: numpy>=1.15 in /usr/local/lib/python3.7/dist-packages (from seaborn) (1.21.6)\n",
            "Requirement already satisfied: python-dateutil>=2.1 in /usr/local/lib/python3.7/dist-packages (from matplotlib>=2.2->seaborn) (2.8.2)\n",
            "Requirement already satisfied: kiwisolver>=1.0.1 in /usr/local/lib/python3.7/dist-packages (from matplotlib>=2.2->seaborn) (1.4.4)\n",
            "Requirement already satisfied: pyparsing!=2.0.4,!=2.1.2,!=2.1.6,>=2.0.1 in /usr/local/lib/python3.7/dist-packages (from matplotlib>=2.2->seaborn) (3.0.9)\n",
            "Requirement already satisfied: cycler>=0.10 in /usr/local/lib/python3.7/dist-packages (from matplotlib>=2.2->seaborn) (0.11.0)\n",
            "Requirement already satisfied: typing-extensions in /usr/local/lib/python3.7/dist-packages (from kiwisolver>=1.0.1->matplotlib>=2.2->seaborn) (4.1.1)\n",
            "Requirement already satisfied: pytz>=2017.3 in /usr/local/lib/python3.7/dist-packages (from pandas>=0.23->seaborn) (2022.6)\n",
            "Requirement already satisfied: six>=1.5 in /usr/local/lib/python3.7/dist-packages (from python-dateutil>=2.1->matplotlib>=2.2->seaborn) (1.15.0)\n",
            "Looking in indexes: https://pypi.org/simple, https://us-python.pkg.dev/colab-wheels/public/simple/\n",
            "Collecting Pyspatialml\n",
            "  Downloading pyspatialml-0.21-py3-none-any.whl (2.5 MB)\n",
            "\u001b[K     |████████████████████████████████| 2.5 MB 5.1 MB/s \n",
            "\u001b[?25hRequirement already satisfied: scipy>1.0.0 in /usr/local/lib/python3.7/dist-packages (from Pyspatialml) (1.7.3)\n",
            "Requirement already satisfied: scikit-learn>=0.22 in /usr/local/lib/python3.7/dist-packages (from Pyspatialml) (1.0.2)\n",
            "Requirement already satisfied: numpy>=1.10.0 in /usr/local/lib/python3.7/dist-packages (from Pyspatialml) (1.21.6)\n",
            "Requirement already satisfied: shapely>=1.6 in /usr/local/lib/python3.7/dist-packages (from Pyspatialml) (1.8.5.post1)\n",
            "Collecting geopandas>=0.3\n",
            "  Downloading geopandas-0.10.2-py2.py3-none-any.whl (1.0 MB)\n",
            "\u001b[K     |████████████████████████████████| 1.0 MB 47.5 MB/s \n",
            "\u001b[?25hRequirement already satisfied: tqdm>=4.20 in /usr/local/lib/python3.7/dist-packages (from Pyspatialml) (4.64.1)\n",
            "Collecting rasterio>=1.0\n",
            "  Downloading rasterio-1.2.10-cp37-cp37m-manylinux1_x86_64.whl (19.3 MB)\n",
            "\u001b[K     |████████████████████████████████| 19.3 MB 1.2 MB/s \n",
            "\u001b[?25hRequirement already satisfied: matplotlib>=2.2.4 in /usr/local/lib/python3.7/dist-packages (from Pyspatialml) (3.2.2)\n",
            "Requirement already satisfied: pandas>=0.20 in /usr/local/lib/python3.7/dist-packages (from Pyspatialml) (1.3.5)\n",
            "Collecting fiona>=1.8\n",
            "  Downloading Fiona-1.8.22-cp37-cp37m-manylinux2014_x86_64.whl (16.7 MB)\n",
            "\u001b[K     |████████████████████████████████| 16.7 MB 39.7 MB/s \n",
            "\u001b[?25hCollecting pyproj>=2.2.0\n",
            "  Downloading pyproj-3.2.1-cp37-cp37m-manylinux2010_x86_64.whl (6.3 MB)\n",
            "\u001b[K     |████████████████████████████████| 6.3 MB 21.4 MB/s \n",
            "\u001b[?25hCollecting click-plugins>=1.0\n",
            "  Downloading click_plugins-1.1.1-py2.py3-none-any.whl (7.5 kB)\n",
            "Requirement already satisfied: click>=4.0 in /usr/local/lib/python3.7/dist-packages (from fiona>=1.8->geopandas>=0.3->Pyspatialml) (7.1.2)\n",
            "Requirement already satisfied: certifi in /usr/local/lib/python3.7/dist-packages (from fiona>=1.8->geopandas>=0.3->Pyspatialml) (2022.9.24)\n",
            "Collecting cligj>=0.5\n",
            "  Downloading cligj-0.7.2-py3-none-any.whl (7.1 kB)\n",
            "Requirement already satisfied: setuptools in /usr/local/lib/python3.7/dist-packages (from fiona>=1.8->geopandas>=0.3->Pyspatialml) (57.4.0)\n",
            "Requirement already satisfied: six>=1.7 in /usr/local/lib/python3.7/dist-packages (from fiona>=1.8->geopandas>=0.3->Pyspatialml) (1.15.0)\n",
            "Collecting munch\n",
            "  Downloading munch-2.5.0-py2.py3-none-any.whl (10 kB)\n",
            "Requirement already satisfied: attrs>=17 in /usr/local/lib/python3.7/dist-packages (from fiona>=1.8->geopandas>=0.3->Pyspatialml) (22.1.0)\n",
            "Requirement already satisfied: kiwisolver>=1.0.1 in /usr/local/lib/python3.7/dist-packages (from matplotlib>=2.2.4->Pyspatialml) (1.4.4)\n",
            "Requirement already satisfied: pyparsing!=2.0.4,!=2.1.2,!=2.1.6,>=2.0.1 in /usr/local/lib/python3.7/dist-packages (from matplotlib>=2.2.4->Pyspatialml) (3.0.9)\n",
            "Requirement already satisfied: python-dateutil>=2.1 in /usr/local/lib/python3.7/dist-packages (from matplotlib>=2.2.4->Pyspatialml) (2.8.2)\n",
            "Requirement already satisfied: cycler>=0.10 in /usr/local/lib/python3.7/dist-packages (from matplotlib>=2.2.4->Pyspatialml) (0.11.0)\n",
            "Requirement already satisfied: typing-extensions in /usr/local/lib/python3.7/dist-packages (from kiwisolver>=1.0.1->matplotlib>=2.2.4->Pyspatialml) (4.1.1)\n",
            "Requirement already satisfied: pytz>=2017.3 in /usr/local/lib/python3.7/dist-packages (from pandas>=0.20->Pyspatialml) (2022.6)\n",
            "Collecting affine\n",
            "  Downloading affine-2.3.1-py2.py3-none-any.whl (16 kB)\n",
            "Collecting snuggs>=1.4.1\n",
            "  Downloading snuggs-1.4.7-py3-none-any.whl (5.4 kB)\n",
            "Requirement already satisfied: threadpoolctl>=2.0.0 in /usr/local/lib/python3.7/dist-packages (from scikit-learn>=0.22->Pyspatialml) (3.1.0)\n",
            "Requirement already satisfied: joblib>=0.11 in /usr/local/lib/python3.7/dist-packages (from scikit-learn>=0.22->Pyspatialml) (1.2.0)\n",
            "Installing collected packages: munch, cligj, click-plugins, snuggs, pyproj, fiona, affine, rasterio, geopandas, Pyspatialml\n",
            "Successfully installed Pyspatialml-0.21 affine-2.3.1 click-plugins-1.1.1 cligj-0.7.2 fiona-1.8.22 geopandas-0.10.2 munch-2.5.0 pyproj-3.2.1 rasterio-1.2.10 snuggs-1.4.7\n",
            "Looking in indexes: https://pypi.org/simple, https://us-python.pkg.dev/colab-wheels/public/simple/\n",
            "Requirement already satisfied: scikit-learn-intelex in /usr/local/lib/python3.7/dist-packages (2021.6.3)\n",
            "Requirement already satisfied: daal4py==2021.6.3 in /usr/local/lib/python3.7/dist-packages (from scikit-learn-intelex) (2021.6.3)\n",
            "Requirement already satisfied: scikit-learn>=0.22 in /usr/local/lib/python3.7/dist-packages (from scikit-learn-intelex) (1.0.2)\n",
            "Requirement already satisfied: numpy>=1.15 in /usr/local/lib/python3.7/dist-packages (from daal4py==2021.6.3->scikit-learn-intelex) (1.21.6)\n",
            "Requirement already satisfied: daal==2021.6.0 in /usr/local/lib/python3.7/dist-packages (from daal4py==2021.6.3->scikit-learn-intelex) (2021.6.0)\n",
            "Requirement already satisfied: tbb==2021.* in /usr/local/lib/python3.7/dist-packages (from daal==2021.6.0->daal4py==2021.6.3->scikit-learn-intelex) (2021.7.1)\n",
            "Requirement already satisfied: threadpoolctl>=2.0.0 in /usr/local/lib/python3.7/dist-packages (from scikit-learn>=0.22->scikit-learn-intelex) (3.1.0)\n",
            "Requirement already satisfied: scipy>=1.1.0 in /usr/local/lib/python3.7/dist-packages (from scikit-learn>=0.22->scikit-learn-intelex) (1.7.3)\n",
            "Requirement already satisfied: joblib>=0.11 in /usr/local/lib/python3.7/dist-packages (from scikit-learn>=0.22->scikit-learn-intelex) (1.2.0)\n",
            "Looking in indexes: https://pypi.org/simple, https://us-python.pkg.dev/colab-wheels/public/simple/\n",
            "Collecting scikit-optimize\n",
            "  Downloading scikit_optimize-0.9.0-py2.py3-none-any.whl (100 kB)\n",
            "\u001b[K     |████████████████████████████████| 100 kB 3.9 MB/s \n",
            "\u001b[?25hCollecting pyaml>=16.9\n",
            "  Downloading pyaml-21.10.1-py2.py3-none-any.whl (24 kB)\n",
            "Requirement already satisfied: numpy>=1.13.3 in /usr/local/lib/python3.7/dist-packages (from scikit-optimize) (1.21.6)\n",
            "Requirement already satisfied: joblib>=0.11 in /usr/local/lib/python3.7/dist-packages (from scikit-optimize) (1.2.0)\n",
            "Requirement already satisfied: scikit-learn>=0.20.0 in /usr/local/lib/python3.7/dist-packages (from scikit-optimize) (1.0.2)\n",
            "Requirement already satisfied: scipy>=0.19.1 in /usr/local/lib/python3.7/dist-packages (from scikit-optimize) (1.7.3)\n",
            "Requirement already satisfied: PyYAML in /usr/local/lib/python3.7/dist-packages (from pyaml>=16.9->scikit-optimize) (6.0)\n",
            "Requirement already satisfied: threadpoolctl>=2.0.0 in /usr/local/lib/python3.7/dist-packages (from scikit-learn>=0.20.0->scikit-optimize) (3.1.0)\n",
            "Installing collected packages: pyaml, scikit-optimize\n",
            "Successfully installed pyaml-21.10.1 scikit-optimize-0.9.0\n"
          ]
        }
      ],
      "source": [
        "#ejecutar sino se tienen instaladas estas librerías\n",
        "!pip install -U scikit-learn\n",
        "!pip install scikit-learn-intelex\n",
        "!pip install -U imbalanced-learn\n",
        "!pip install xgboost\n",
        "!pip install seaborn\n",
        "!pip install Pyspatialml\n",
        "!pip install scikit-learn-intelex\n",
        "!pip install scikit-optimize"
      ]
    },
    {
      "cell_type": "markdown",
      "source": [
        "## Código de soporte"
      ],
      "metadata": {
        "id": "NJw2cQ_zbJZf"
      }
    },
    {
      "cell_type": "code",
      "source": [
        "from sklearn.metrics import accuracy_score, confusion_matrix, classification_report, roc_curve, roc_auc_score\n",
        "from sklearn.model_selection import GridSearchCV\n",
        "from sklearn.model_selection import cross_validate\n",
        "from sklearn.pipeline import Pipeline\n",
        "from sklearn.preprocessing import StandardScaler"
      ],
      "metadata": {
        "id": "w-SU7sUebMtV"
      },
      "execution_count": null,
      "outputs": []
    },
    {
      "cell_type": "markdown",
      "source": [
        "### Ploteo validación cruzada k-iteraciones\n",
        "Esta rutina permite dibujar la comparación de resultados de la validación cruzada entre resultados de entrenamiento y resultados de validación para su análisis."
      ],
      "metadata": {
        "id": "rY_iLTKVbN8v"
      }
    },
    {
      "cell_type": "code",
      "source": [
        "def plot_cvalidation(x_label, y_label, train_data, val_data, ax):\n",
        "        '''Rutina para dibujar un gráfico de barras agrupado mostrando datos de entrenamiento y validación\n",
        "          resultantes del modelo en cada iteración aplicando validación cruzada de k -iteraciones.\n",
        "         Parametros\n",
        "         ----------\n",
        "         x_label: str, \n",
        "            Nombre del algoritmo utilizado. ej:Random Forest\n",
        "          \n",
        "         y_label: str, \n",
        "            Nombre de la métrica a visualizar. ej: precisión\n",
        "         plot_title: str, \n",
        "            Título del gráfico. ej: 'Precisión del modelo'\n",
        "         \n",
        "         train_result: list, array\n",
        "            Resultados de la métrica en fase de entrenamiento del modelo en la validación cruzada.\n",
        "        \n",
        "         val_result: list, array\n",
        "            Resultados de la métrica en fase de validación del modelo en la validación cruzada.\n",
        "         Returns\n",
        "         -------\n",
        "         Gráfico de barras agrupado mostrando el resultado de la métrica deseada en cada iteración.\n",
        "        '''        \n",
        "        labels = [\"1st Fold\", \"2nd Fold\", \"3rd Fold\", \"4th Fold\", \"5th Fold\"]\n",
        "        X_axis = np.arange(len(labels))\n",
        "        ax.bar(X_axis-0.2, train_data, 0.4, color='blue', label='Training')\n",
        "        for x,y in zip(X_axis-0.2, train_data):\n",
        "            label = \"{:.2f}\".format(y)\n",
        "            ax.annotate(label,\n",
        "                       (x,y),\n",
        "                 textcoords=\"offset points\",\n",
        "                 xytext=(0,2),\n",
        "                 ha='center',\n",
        "                       fontsize=10)\n",
        "        ax.bar(X_axis+0.2, val_data, 0.4, color='red', label='Validation')\n",
        "        for x,y in zip(X_axis+0.2, val_data):\n",
        "            label = \"{:.3f}\".format(y)\n",
        "            ax.annotate(label,\n",
        "                       (x,y),\n",
        "                 textcoords=\"offset points\",\n",
        "                 xytext=(0,10),\n",
        "                 ha='center',\n",
        "                       fontsize=10)\n",
        "        ax.set_xticks(X_axis, labels)\n",
        "        ax.set_xlabel(x_label, fontsize=10)\n",
        "        ax.set_ylabel(y_label, fontsize=12)\n",
        "        ax.legend(fontsize=10)\n",
        "        ax.grid(True)"
      ],
      "metadata": {
        "id": "HomXDhs2bTIq"
      },
      "execution_count": null,
      "outputs": []
    },
    {
      "cell_type": "markdown",
      "source": [
        "### Ploteo matríz de confusión\n",
        "Rutina que permite dibujar la matriz de confusión de los modelos entrenados para analizar los resultados contra los resultados esperados."
      ],
      "metadata": {
        "id": "Mwb62EqMuTNA"
      }
    },
    {
      "cell_type": "code",
      "source": [
        "def plot_matrix_c(real_data, pred_data, title, color):\n",
        "    '''\n",
        "    Rutina para dibujar matriz de confusión de un modelo, mostrando resultado de las predicciones del modelo\n",
        "    contra los valores reales de los datos.\n",
        "    Parametros\n",
        "    ----------\n",
        "    real_data: array,\n",
        "    conjunto de datos reales utilizados para la validación del modelo, con las etiquetas de los datos\n",
        "    \n",
        "    pred_data: array,\n",
        "    conjunto de datos predichos por el modelo\n",
        "    \n",
        "    title: str,\n",
        "    título del gráfico\n",
        "    \n",
        "    color: matplotlib color o object(cmap) ,\n",
        "    Color a aplicar al gráfico, puede ser un str o objeto de los disponibles en matplotlib\n",
        "    '''\n",
        "    matrix = confusion_matrix(real_data, pred_data)\n",
        "    matrix = matrix.astype('float') / matrix.sum(axis=1)[:,np.newaxis]\n",
        "\n",
        "    plt.figure(figsize=(16,7))\n",
        "    sns.set(font_scale=1.4)\n",
        "    sns.heatmap(matrix, annot=True, annot_kws={'size':10},\n",
        "                cmap=color, linewidths=0.2)\n",
        "\n",
        "    class_names = ['no deslizamiento','deslizamiento']\n",
        "    tick_marks = np.arange(len(class_names)) + 0.4\n",
        "    tick_marks2 = tick_marks + 0.5\n",
        "    plt.xticks(tick_marks, class_names, rotation=0)\n",
        "    plt.yticks(tick_marks2, class_names, rotation=0)\n",
        "    plt.xlabel('Clase predecida')\n",
        "    plt.ylabel('Clase real')\n",
        "    plt.title(title)\n",
        "    plt.show()\n",
        "    "
      ],
      "metadata": {
        "id": "7sXSb5RJuU9g"
      },
      "execution_count": null,
      "outputs": []
    },
    {
      "cell_type": "markdown",
      "source": [
        "### Ploteo gráfico - valor AUC-ROC\n",
        "\n",
        "Rutina que dibuja el gráfico - valor AUC-ROC, comparando el resultado del modelo con parámetros predeterminados y el resultado con parámetros ajustados."
      ],
      "metadata": {
        "id": "krxo2TYebULI"
      }
    },
    {
      "cell_type": "code",
      "source": [
        "def plot_auc_roc(real_data, pred_data_base, pred_data_adj):\n",
        "    '''\n",
        "    Rutina que dibuja los gráficos y valor AUC - ROC de los modelos con parámetros predeterminados\n",
        "    y con parámetros ajustados.\n",
        "    Parámetros\n",
        "    ----------\n",
        "    real_data: array, conjunto de datos reales para validación\n",
        "    \n",
        "    pred_data_base: array, conjunto de datos de las probabilidades de las predicciones hechas por el modelo con parámetros predeterminados\n",
        "    \n",
        "    pred_data_adj: array, conjunto de datos de las probabilidades de las predicciones hechas por el modelo  con parámetros ajustados\n",
        "    '''\n",
        "    fpr, tpr, _ = roc_curve(real_data, pred_data_base)\n",
        "\n",
        "    auc = roc_auc_score(real_data, pred_data_base)\n",
        "\n",
        "    #curva ROC parámetros pred.\n",
        "\n",
        "    fig, axes = plt.subplots(nrows=1, ncols=2, figsize= (16,6))\n",
        "\n",
        "    axes[0].plot(fpr,tpr,label=\"AUC=\"+str(auc))\n",
        "    axes[0].set_title('default params')\n",
        "    axes[0].set_ylabel('True Positive Rate')\n",
        "    axes[0].set_xlabel('False Positive Rate')\n",
        "    axes[0].legend(loc=4)\n",
        "\n",
        "    fpr, tpr, _ = roc_curve(real_data, pred_data_adj)\n",
        "\n",
        "    auc2 = roc_auc_score(real_data, pred_data_adj)\n",
        "\n",
        "    #curva ROC parámetros ajustados\n",
        "\n",
        "    axes[1].plot(fpr,tpr,label=\"AUC=\"+str(auc2))\n",
        "    axes[1].set_title('params ajustados')\n",
        "    axes[1].set_ylabel('True Positive Rate')\n",
        "    axes[1].set_xlabel('False Positive Rate')\n",
        "    axes[1].legend(loc=4)\n",
        "    plt.show()"
      ],
      "metadata": {
        "id": "pggqbtMbbWvg"
      },
      "execution_count": null,
      "outputs": []
    },
    {
      "cell_type": "markdown",
      "source": [
        "### Búsqueda hiperparámetros\n",
        "Esta rutina permite realizar la búsqueda de la mejor combinación de hiperparámetros dado un conjunto base, para el modelo indicado en los parámetros. Retornando la combinación encontrada por el módulo GridSearchCV"
      ],
      "metadata": {
        "id": "kZt-uXZxbePX"
      }
    },
    {
      "cell_type": "code",
      "source": [
        "def search_hyperparams(base_estimator, params_grid, train_data_x, train_data_y):\n",
        "    '''\n",
        "    Rutina que realiza la búsqueda de la mejor combinación de hiperparámetros para el modelo indicado.\n",
        "    Retornando un diccionario con los hiperparámetros para la configuración del modelo.\n",
        "    \n",
        "    Parametros\n",
        "    ----------\n",
        "    estimator: modelo ML base  scikit-learn, instancia base del modelo para el cuál se hará la búsqueda de hiperparámetros.\n",
        "    \n",
        "    params_grid: dict, conjuntos de hiperpárametros para realizar la búsqueda de la mejor combinación\n",
        "    \n",
        "    train_data_x: array, conjunto de datos de entrenamiento para las variables independientes\n",
        "    \n",
        "    train_data_y: array, conjunto de datos de entrenamiento para la variable dependiente\n",
        "    \n",
        "    Retorna\n",
        "    -------\n",
        "    dict, Combinación de hiperpárametros encontrada por GridSearchCV\n",
        "    '''\n",
        "    search_model = GridSearchCV(estimator=base_estimator,\n",
        "                                param_grid=params_grid,\n",
        "                                cv=5, verbose=2, n_jobs = -1,\n",
        "                          scoring=['f1','precision','recall'],\n",
        "                          refit='recall')\n",
        "\n",
        "    search_model.fit(train_data_x, train_data_y)\n",
        "    \n",
        "    return search_model.best_params_"
      ],
      "metadata": {
        "id": "97UjHhMib60G"
      },
      "execution_count": null,
      "outputs": []
    },
    {
      "cell_type": "markdown",
      "source": [
        "### Entrenamiento Modelo\n",
        "Esta rutina entrena la instancia de un modelo de ML scikit-learn, retornando el modelo ya entrenado."
      ],
      "metadata": {
        "id": "pLn1gyURb8IY"
      }
    },
    {
      "cell_type": "code",
      "source": [
        "def train_model(model_configed, x_train_data, y_train_data):\n",
        "    '''\n",
        "    Rutina que entrena un modelo ML de scikit-learn ya configurado, con los datos indicados en los parámetros.\n",
        "    \n",
        "    Parámetros\n",
        "    ----------\n",
        "    model_configed: instancia modelo ML scikit-learn ya configurado con hiperparámetros sea ese el caso o una instancia\n",
        "    predeterminada del modelo.\n",
        "    \n",
        "    x_train_data: array, datos de entrenamiento de las variables inpendientes\n",
        "    \n",
        "    y_train_data: array, datos de entrenamiento de las variables dependientes\n",
        "    '''\n",
        "    #Pipeline del modelo, realiza una normalización con StandarScaler y estos datos los pasa al modelo para entrenamiento\n",
        "    model_ = Pipeline(\n",
        "    [('scaling', StandardScaler()),\n",
        "        ('classifier', model_configed)])\n",
        "    model_.fit(x_train_data, y_train_data)\n",
        "    return model_"
      ],
      "metadata": {
        "id": "WeDEt_uxb-xz"
      },
      "execution_count": null,
      "outputs": []
    },
    {
      "cell_type": "markdown",
      "source": [
        "## Ploteo mapa\n",
        "Rutina que dibuja un mapa de la región con las predicciones realizadas por el modelo a través de pyspatialml."
      ],
      "metadata": {
        "id": "wtQVJHJ1b__o"
      }
    },
    {
      "cell_type": "code",
      "source": [
        "def plot_map(results):\n",
        "    '''\n",
        "    Rutina que dibuja mapa de las predicciones realizadas por el modelo.\n",
        "    Parametros\n",
        "    ----------\n",
        "    results, rasterObject pyspatialML, resultados de la predicción realizada por el modelo\n",
        "    '''\n",
        "    fig, ax = plt.subplots(figsize=(9, 9))\n",
        "\n",
        "    results.iloc[0].cmap = \"Dark2\"\n",
        "    results.iloc[0].categorical = True\n",
        "    results.iloc[0].plot(ax=ax, legend=True, categorical=True)\n",
        "    plt.show()  "
      ],
      "metadata": {
        "id": "x-wP9kLfcBEy"
      },
      "execution_count": null,
      "outputs": []
    },
    {
      "cell_type": "markdown",
      "source": [
        "## Resultados validación cruzada\n",
        "Ejecuta la evaluación de validación cruzada de un modelo dado, retornando un diccionario con los resultados de cada una de las iteraciones de la validación"
      ],
      "metadata": {
        "id": "l_-HMb6QcBig"
      }
    },
    {
      "cell_type": "code",
      "source": [
        "def cross_validation_results(estimator_, x_test_data, y_test_data, cv_):\n",
        "    scores = cross_validate(estimator= estimator_,\n",
        "    X = x_test_data,\n",
        "    y = y_test_data,\n",
        "    scoring=['accuracy', 'precision', 'recall', 'f1'],\n",
        "    cv = cv_,\n",
        "    return_train_score = True)\n",
        "    return scores"
      ],
      "metadata": {
        "id": "7LRuJWF4cJLt"
      },
      "execution_count": null,
      "outputs": []
    },
    {
      "cell_type": "markdown",
      "metadata": {
        "id": "tPDNQYJXDze8"
      },
      "source": [
        "# Ingeniería de Datos"
      ]
    },
    {
      "cell_type": "code",
      "execution_count": null,
      "metadata": {
        "id": "eX1vN-wssNq7",
        "colab": {
          "base_uri": "https://localhost:8080/"
        },
        "outputId": "720fe919-5701-4c7c-9cd5-acb00f7bbb18"
      },
      "outputs": [
        {
          "output_type": "stream",
          "name": "stderr",
          "text": [
            "Intel(R) Extension for Scikit-learn* enabled (https://github.com/intel/scikit-learn-intelex)\n"
          ]
        }
      ],
      "source": [
        "from sklearnex import patch_sklearn \n",
        "patch_sklearn()\n",
        "from imblearn.over_sampling import SMOTE, BorderlineSMOTE, SVMSMOTE\n",
        "from pyspatialml import Raster\n",
        "import pandas as pd\n",
        "import geopandas as gpd\n",
        "import rasterio\n",
        "import rasterio.plot\n",
        "import matplotlib.pyplot as plt\n",
        "from sklearn.model_selection import train_test_split\n",
        "import seaborn as sns\n",
        "import numpy as np"
      ]
    },
    {
      "cell_type": "code",
      "execution_count": null,
      "metadata": {
        "id": "SBj1cikktjwS"
      },
      "outputs": [],
      "source": [
        "#Datos variables independendientes\n",
        "\n",
        "files = [\"drive/MyDrive/Tesis/raster_curvatura/curvatura_r.tif\",\"drive/MyDrive/Tesis/raster_elevacion/elevacion_r.tif\",\"drive/MyDrive/Tesis/raster_pendiente/pendiente_r.tif\",\"drive/MyDrive/Tesis/raster_perfil_curvatura/perfilc_r.tif\",\n",
        "         \"drive/MyDrive/Tesis/raster_lluvia/lluvia_r.tif\",\"drive/MyDrive/Tesis/raster_cobertura/cobertura_r.tif\"]\n",
        "\n",
        "#Carga de datos con rasterio\n",
        "rasters =Raster(files)"
      ]
    },
    {
      "cell_type": "code",
      "execution_count": null,
      "metadata": {
        "id": "-iqK67MPd4qx"
      },
      "outputs": [],
      "source": [
        "#Datos deslizamientos\n",
        "raster_desli = rasterio.open('drive/MyDrive/Tesis/deslizamientos/raster/desli_lim.tif')"
      ]
    },
    {
      "cell_type": "code",
      "execution_count": null,
      "metadata": {
        "id": "7b_4H4Lu75jb",
        "colab": {
          "base_uri": "https://localhost:8080/",
          "height": 641
        },
        "outputId": "e8262ff7-74c2-4a5a-874b-2381d2cfaec1"
      },
      "outputs": [
        {
          "output_type": "execute_result",
          "data": {
            "text/plain": [
              "      value  curvatura_r  elevacion_r  pendiente_r  perfilc_r     lluvia_r  \\\n",
              "0       0.0         0.50       1621.0     9.800000   0.473218  2392.033447   \n",
              "1       0.0         0.75       1574.0    20.196274   0.687335  2648.619141   \n",
              "2       0.0         1.00       1640.0     2.977056   1.483140  2869.323730   \n",
              "3       0.0         0.75        594.0    21.701746  -3.096038  2679.779541   \n",
              "4       0.0         0.25        391.0    22.294275   0.006878  2923.886230   \n",
              "...     ...          ...          ...          ...        ...          ...   \n",
              "6159    0.0         1.25        894.0    11.518590  -0.665087  2843.120117   \n",
              "6160    0.0         0.50        820.0     1.662445  -0.142286  3109.098877   \n",
              "6162    0.0         0.25        767.0     6.109069   0.095966  3204.624512   \n",
              "6163    0.0         0.50        779.0     2.679327   0.239556  3208.293701   \n",
              "6164    0.0         0.25        620.0     1.486836   0.300028  3195.950928   \n",
              "\n",
              "      cobertura_r                        geometry  \n",
              "0             2.0  POINT (369009.824 1777200.007)  \n",
              "1             2.0  POINT (373376.451 1777200.007)  \n",
              "2             2.0  POINT (378470.851 1777200.007)  \n",
              "3             2.0  POINT (404670.618 1777200.007)  \n",
              "4             2.0  POINT (417770.501 1777200.007)  \n",
              "...           ...                             ...  \n",
              "6159          7.0  POINT (451247.982 1594529.407)  \n",
              "6160          7.0  POINT (449792.439 1593801.636)  \n",
              "6162          2.0  POINT (449064.668 1593073.865)  \n",
              "6163          7.0  POINT (449792.439 1593073.865)  \n",
              "6164         11.0  POINT (448336.897 1590890.551)  \n",
              "\n",
              "[6121 rows x 8 columns]"
            ],
            "text/html": [
              "\n",
              "  <div id=\"df-a7b472c2-c223-44bd-a71a-22c0fc4ad7d5\">\n",
              "    <div class=\"colab-df-container\">\n",
              "      <div>\n",
              "<style scoped>\n",
              "    .dataframe tbody tr th:only-of-type {\n",
              "        vertical-align: middle;\n",
              "    }\n",
              "\n",
              "    .dataframe tbody tr th {\n",
              "        vertical-align: top;\n",
              "    }\n",
              "\n",
              "    .dataframe thead th {\n",
              "        text-align: right;\n",
              "    }\n",
              "</style>\n",
              "<table border=\"1\" class=\"dataframe\">\n",
              "  <thead>\n",
              "    <tr style=\"text-align: right;\">\n",
              "      <th></th>\n",
              "      <th>value</th>\n",
              "      <th>curvatura_r</th>\n",
              "      <th>elevacion_r</th>\n",
              "      <th>pendiente_r</th>\n",
              "      <th>perfilc_r</th>\n",
              "      <th>lluvia_r</th>\n",
              "      <th>cobertura_r</th>\n",
              "      <th>geometry</th>\n",
              "    </tr>\n",
              "  </thead>\n",
              "  <tbody>\n",
              "    <tr>\n",
              "      <th>0</th>\n",
              "      <td>0.0</td>\n",
              "      <td>0.50</td>\n",
              "      <td>1621.0</td>\n",
              "      <td>9.800000</td>\n",
              "      <td>0.473218</td>\n",
              "      <td>2392.033447</td>\n",
              "      <td>2.0</td>\n",
              "      <td>POINT (369009.824 1777200.007)</td>\n",
              "    </tr>\n",
              "    <tr>\n",
              "      <th>1</th>\n",
              "      <td>0.0</td>\n",
              "      <td>0.75</td>\n",
              "      <td>1574.0</td>\n",
              "      <td>20.196274</td>\n",
              "      <td>0.687335</td>\n",
              "      <td>2648.619141</td>\n",
              "      <td>2.0</td>\n",
              "      <td>POINT (373376.451 1777200.007)</td>\n",
              "    </tr>\n",
              "    <tr>\n",
              "      <th>2</th>\n",
              "      <td>0.0</td>\n",
              "      <td>1.00</td>\n",
              "      <td>1640.0</td>\n",
              "      <td>2.977056</td>\n",
              "      <td>1.483140</td>\n",
              "      <td>2869.323730</td>\n",
              "      <td>2.0</td>\n",
              "      <td>POINT (378470.851 1777200.007)</td>\n",
              "    </tr>\n",
              "    <tr>\n",
              "      <th>3</th>\n",
              "      <td>0.0</td>\n",
              "      <td>0.75</td>\n",
              "      <td>594.0</td>\n",
              "      <td>21.701746</td>\n",
              "      <td>-3.096038</td>\n",
              "      <td>2679.779541</td>\n",
              "      <td>2.0</td>\n",
              "      <td>POINT (404670.618 1777200.007)</td>\n",
              "    </tr>\n",
              "    <tr>\n",
              "      <th>4</th>\n",
              "      <td>0.0</td>\n",
              "      <td>0.25</td>\n",
              "      <td>391.0</td>\n",
              "      <td>22.294275</td>\n",
              "      <td>0.006878</td>\n",
              "      <td>2923.886230</td>\n",
              "      <td>2.0</td>\n",
              "      <td>POINT (417770.501 1777200.007)</td>\n",
              "    </tr>\n",
              "    <tr>\n",
              "      <th>...</th>\n",
              "      <td>...</td>\n",
              "      <td>...</td>\n",
              "      <td>...</td>\n",
              "      <td>...</td>\n",
              "      <td>...</td>\n",
              "      <td>...</td>\n",
              "      <td>...</td>\n",
              "      <td>...</td>\n",
              "    </tr>\n",
              "    <tr>\n",
              "      <th>6159</th>\n",
              "      <td>0.0</td>\n",
              "      <td>1.25</td>\n",
              "      <td>894.0</td>\n",
              "      <td>11.518590</td>\n",
              "      <td>-0.665087</td>\n",
              "      <td>2843.120117</td>\n",
              "      <td>7.0</td>\n",
              "      <td>POINT (451247.982 1594529.407)</td>\n",
              "    </tr>\n",
              "    <tr>\n",
              "      <th>6160</th>\n",
              "      <td>0.0</td>\n",
              "      <td>0.50</td>\n",
              "      <td>820.0</td>\n",
              "      <td>1.662445</td>\n",
              "      <td>-0.142286</td>\n",
              "      <td>3109.098877</td>\n",
              "      <td>7.0</td>\n",
              "      <td>POINT (449792.439 1593801.636)</td>\n",
              "    </tr>\n",
              "    <tr>\n",
              "      <th>6162</th>\n",
              "      <td>0.0</td>\n",
              "      <td>0.25</td>\n",
              "      <td>767.0</td>\n",
              "      <td>6.109069</td>\n",
              "      <td>0.095966</td>\n",
              "      <td>3204.624512</td>\n",
              "      <td>2.0</td>\n",
              "      <td>POINT (449064.668 1593073.865)</td>\n",
              "    </tr>\n",
              "    <tr>\n",
              "      <th>6163</th>\n",
              "      <td>0.0</td>\n",
              "      <td>0.50</td>\n",
              "      <td>779.0</td>\n",
              "      <td>2.679327</td>\n",
              "      <td>0.239556</td>\n",
              "      <td>3208.293701</td>\n",
              "      <td>7.0</td>\n",
              "      <td>POINT (449792.439 1593073.865)</td>\n",
              "    </tr>\n",
              "    <tr>\n",
              "      <th>6164</th>\n",
              "      <td>0.0</td>\n",
              "      <td>0.25</td>\n",
              "      <td>620.0</td>\n",
              "      <td>1.486836</td>\n",
              "      <td>0.300028</td>\n",
              "      <td>3195.950928</td>\n",
              "      <td>11.0</td>\n",
              "      <td>POINT (448336.897 1590890.551)</td>\n",
              "    </tr>\n",
              "  </tbody>\n",
              "</table>\n",
              "<p>6121 rows × 8 columns</p>\n",
              "</div>\n",
              "      <button class=\"colab-df-convert\" onclick=\"convertToInteractive('df-a7b472c2-c223-44bd-a71a-22c0fc4ad7d5')\"\n",
              "              title=\"Convert this dataframe to an interactive table.\"\n",
              "              style=\"display:none;\">\n",
              "        \n",
              "  <svg xmlns=\"http://www.w3.org/2000/svg\" height=\"24px\"viewBox=\"0 0 24 24\"\n",
              "       width=\"24px\">\n",
              "    <path d=\"M0 0h24v24H0V0z\" fill=\"none\"/>\n",
              "    <path d=\"M18.56 5.44l.94 2.06.94-2.06 2.06-.94-2.06-.94-.94-2.06-.94 2.06-2.06.94zm-11 1L8.5 8.5l.94-2.06 2.06-.94-2.06-.94L8.5 2.5l-.94 2.06-2.06.94zm10 10l.94 2.06.94-2.06 2.06-.94-2.06-.94-.94-2.06-.94 2.06-2.06.94z\"/><path d=\"M17.41 7.96l-1.37-1.37c-.4-.4-.92-.59-1.43-.59-.52 0-1.04.2-1.43.59L10.3 9.45l-7.72 7.72c-.78.78-.78 2.05 0 2.83L4 21.41c.39.39.9.59 1.41.59.51 0 1.02-.2 1.41-.59l7.78-7.78 2.81-2.81c.8-.78.8-2.07 0-2.86zM5.41 20L4 18.59l7.72-7.72 1.47 1.35L5.41 20z\"/>\n",
              "  </svg>\n",
              "      </button>\n",
              "      \n",
              "  <style>\n",
              "    .colab-df-container {\n",
              "      display:flex;\n",
              "      flex-wrap:wrap;\n",
              "      gap: 12px;\n",
              "    }\n",
              "\n",
              "    .colab-df-convert {\n",
              "      background-color: #E8F0FE;\n",
              "      border: none;\n",
              "      border-radius: 50%;\n",
              "      cursor: pointer;\n",
              "      display: none;\n",
              "      fill: #1967D2;\n",
              "      height: 32px;\n",
              "      padding: 0 0 0 0;\n",
              "      width: 32px;\n",
              "    }\n",
              "\n",
              "    .colab-df-convert:hover {\n",
              "      background-color: #E2EBFA;\n",
              "      box-shadow: 0px 1px 2px rgba(60, 64, 67, 0.3), 0px 1px 3px 1px rgba(60, 64, 67, 0.15);\n",
              "      fill: #174EA6;\n",
              "    }\n",
              "\n",
              "    [theme=dark] .colab-df-convert {\n",
              "      background-color: #3B4455;\n",
              "      fill: #D2E3FC;\n",
              "    }\n",
              "\n",
              "    [theme=dark] .colab-df-convert:hover {\n",
              "      background-color: #434B5C;\n",
              "      box-shadow: 0px 1px 3px 1px rgba(0, 0, 0, 0.15);\n",
              "      filter: drop-shadow(0px 1px 2px rgba(0, 0, 0, 0.3));\n",
              "      fill: #FFFFFF;\n",
              "    }\n",
              "  </style>\n",
              "\n",
              "      <script>\n",
              "        const buttonEl =\n",
              "          document.querySelector('#df-a7b472c2-c223-44bd-a71a-22c0fc4ad7d5 button.colab-df-convert');\n",
              "        buttonEl.style.display =\n",
              "          google.colab.kernel.accessAllowed ? 'block' : 'none';\n",
              "\n",
              "        async function convertToInteractive(key) {\n",
              "          const element = document.querySelector('#df-a7b472c2-c223-44bd-a71a-22c0fc4ad7d5');\n",
              "          const dataTable =\n",
              "            await google.colab.kernel.invokeFunction('convertToInteractive',\n",
              "                                                     [key], {});\n",
              "          if (!dataTable) return;\n",
              "\n",
              "          const docLinkHtml = 'Like what you see? Visit the ' +\n",
              "            '<a target=\"_blank\" href=https://colab.research.google.com/notebooks/data_table.ipynb>data table notebook</a>'\n",
              "            + ' to learn more about interactive tables.';\n",
              "          element.innerHTML = '';\n",
              "          dataTable['output_type'] = 'display_data';\n",
              "          await google.colab.output.renderOutput(dataTable, element);\n",
              "          const docLink = document.createElement('div');\n",
              "          docLink.innerHTML = docLinkHtml;\n",
              "          element.appendChild(docLink);\n",
              "        }\n",
              "      </script>\n",
              "    </div>\n",
              "  </div>\n",
              "  "
            ]
          },
          "metadata": {},
          "execution_count": 13
        }
      ],
      "source": [
        "#Combinación de datos de deslizamientos y variables independientes (DATAFRAME)\n",
        "extracted_df = rasters.extract_raster(raster_desli)\n",
        "#Depuración de Datos\n",
        "extracted_df.dropna(inplace=True)\n",
        "extracted_df"
      ]
    },
    {
      "cell_type": "markdown",
      "source": [
        "## Sobreajuste de Datos y separación de conjuntos"
      ],
      "metadata": {
        "id": "Rohh6QzqcSP9"
      }
    },
    {
      "cell_type": "code",
      "source": [
        "#Separación de Datos inicial\n",
        "#Sobremuestreo de datos\n",
        "#separación variables independientes\n",
        "X = extracted_df.drop(columns=['value','geometry']).values\n",
        "\n",
        "#separación variable dependiente (deslizamientos)\n",
        "Y = extracted_df['value'].values\n",
        "\n",
        "\n",
        "#el módulo SMOTE, realiza el sobremuestreo del conjunto de datos haciendo uso de la técnica Synthetic Minority Oversampling Technique (SMOTE)\n",
        "smote = SVMSMOTE(random_state=30, n_jobs=-1)\n",
        "\n",
        "X_smote, Y_smote = smote.fit_resample(X,Y)\n",
        "\n",
        "#Se hace la separación de datos de entrenamiento y datos de validación para las variables independientes y la variable dependiente\n",
        "x_train, x_test, y_train, y_test = train_test_split(X_smote,Y_smote,test_size=0.2, random_state=30)"
      ],
      "metadata": {
        "id": "1VVO60JbcwGe"
      },
      "execution_count": null,
      "outputs": []
    },
    {
      "cell_type": "markdown",
      "metadata": {
        "id": "AvDaacymxnPp"
      },
      "source": [
        "# Pipeline Ciencia de Datos (ML)"
      ]
    },
    {
      "cell_type": "code",
      "source": [
        "from sklearnex import patch_sklearn \n",
        "patch_sklearn()\n",
        "from sklearn.ensemble import RandomForestClassifier\n",
        "from sklearn import svm\n",
        "from sklearn.preprocessing import StandardScaler\n",
        "from sklearn.pipeline import Pipeline\n",
        "from sklearn.model_selection import cross_validate\n",
        "from sklearn.model_selection import train_test_split\n",
        "import numpy as np"
      ],
      "metadata": {
        "id": "rWEvuStjdfZ7",
        "colab": {
          "base_uri": "https://localhost:8080/"
        },
        "outputId": "49507ff4-3bfa-4d16-873e-83568a723980"
      },
      "execution_count": null,
      "outputs": [
        {
          "output_type": "stream",
          "name": "stderr",
          "text": [
            "Intel(R) Extension for Scikit-learn* enabled (https://github.com/intel/scikit-learn-intelex)\n"
          ]
        }
      ]
    },
    {
      "cell_type": "markdown",
      "metadata": {
        "id": "sL8pZp23fxqd"
      },
      "source": [
        "## Random Forest"
      ]
    },
    {
      "cell_type": "code",
      "execution_count": null,
      "metadata": {
        "id": "9sSbL_zndCGE"
      },
      "outputs": [],
      "source": [
        "#Búsqueda mejor ajuste hiperparámetros\n",
        "base_classifier = RandomForestClassifier()\n",
        "\n",
        "n_estimators = [100,250,500,750,1000,1200]\n",
        "\n",
        "max_depth = [50,100, 250, 350, 500]\n",
        "\n",
        "min_samples_split = [5, 10, 15, 20, 30]\n",
        "\n",
        "min_samples_leaf = [2,4,6,10]\n",
        "\n",
        "\n",
        "\n",
        "params_grid = {'n_estimators':n_estimators,\n",
        "               'max_depth':max_depth,\n",
        "               'min_samples_split':min_samples_split,\n",
        "               'min_samples_leaf':min_samples_leaf}\n",
        "\n",
        "params = search_hyperparams(base_classifier, params_grid, x_train, y_train)\n",
        "\n",
        "params['n_jobs'] = -1\n",
        "\n",
        "params"
      ]
    },
    {
      "cell_type": "markdown",
      "source": [
        "### Entrenamiento Hiperparámetros ajustados\n"
      ],
      "metadata": {
        "id": "p3NBPj7uxOGM"
      }
    },
    {
      "cell_type": "code",
      "source": [
        "#Instancia modelo con hiperparámetros\n",
        "classifier = RandomForestClassifier(**params)\n",
        "\n",
        "\n",
        "rf = train_model(classifier, x_train, y_train)"
      ],
      "metadata": {
        "id": "WHs59rL4kCHY"
      },
      "execution_count": null,
      "outputs": []
    },
    {
      "cell_type": "code",
      "execution_count": null,
      "metadata": {
        "id": "wF4B2RSAj1ft"
      },
      "outputs": [],
      "source": [
        "#Resultados predicción (pyspatialml)\n",
        "result_rf = rasters.predict(estimator=rf,file_path=\"drive/MyDrive/Tesis/prediction.tif\", progress=True)\n",
        "#Resultados probabilidades predicción (pyspatialml)\n",
        "result_probs = rasters.predict_proba(estimator=rf, progress=True)"
      ]
    },
    {
      "cell_type": "code",
      "source": [
        "#Plot mapa predicciones\n",
        "plot_map(result_rf)"
      ],
      "metadata": {
        "id": "cQ7dAU4Gkcu6"
      },
      "execution_count": null,
      "outputs": []
    },
    {
      "cell_type": "code",
      "source": [
        "#Estos resultados fueron utilizados para el análisis de métricas del modelo\n",
        "#Resultados predicción (scikit-learn)\n",
        "y_pred_ajustado = rf.predict(x_test)\n",
        "#Resultados probabilidades predicción (scikit-learn)\n",
        "y_ajustado_proba = rf.predict_proba(x_test)[::,1]"
      ],
      "metadata": {
        "id": "X80kEeqzxFaY"
      },
      "execution_count": null,
      "outputs": []
    },
    {
      "cell_type": "markdown",
      "source": [
        "### Entrenamiento Hiperparámetros predeterminados\n"
      ],
      "metadata": {
        "id": "Hv3Xp1iBxHVw"
      }
    },
    {
      "cell_type": "code",
      "execution_count": null,
      "metadata": {
        "id": "HFLHoKTUw3gH"
      },
      "outputs": [],
      "source": [
        "#Instancia algoritmo hiperparámetros predeterminados\n",
        "b_classifier = RandomForestClassifier(n_jobs=-1)\n",
        "\n",
        "brf = train_model(b_classifier, x_train, y_train)"
      ]
    },
    {
      "cell_type": "code",
      "execution_count": null,
      "metadata": {
        "id": "A6RDIk_p5_Cw"
      },
      "outputs": [],
      "source": [
        "#Resultados predicción (pyspatialml)\n",
        "result_rfb = rasters.predict(estimator=brf, progress=True)\n",
        "#Resultados probabilidades predicción (pyspatialml)\n",
        "result_probs = rasters.predict_proba(estimator=brf, progress=True)"
      ]
    },
    {
      "cell_type": "code",
      "source": [
        "#Plot mapa predicciones\n",
        "plot_map(result_rfb)"
      ],
      "metadata": {
        "id": "pGiUdxrDxZtz"
      },
      "execution_count": null,
      "outputs": []
    },
    {
      "cell_type": "code",
      "source": [
        "#Estos resultados fueron utilizados para análisis de métricas del modelo\n",
        "#Resultados predicción (scikit-learn)\n",
        "y_pred_base = brf.predict(x_test)\n",
        "#Resultados probabilidades predicción (scikit-learn)\n",
        "y_pbase_proba = brf.predict_proba(x_test)[::,1]"
      ],
      "metadata": {
        "id": "am4R2aSexar_"
      },
      "execution_count": null,
      "outputs": []
    },
    {
      "cell_type": "markdown",
      "source": [
        "### Métricas"
      ],
      "metadata": {
        "id": "-wYzMaZHFHyJ"
      }
    },
    {
      "cell_type": "code",
      "source": [
        "from sklearn.metrics import confusion_matrix, classification_report, roc_curve, roc_auc_score"
      ],
      "metadata": {
        "id": "TxOhFHwiFKT-"
      },
      "execution_count": null,
      "outputs": []
    },
    {
      "cell_type": "markdown",
      "source": [
        "#### Matríz de Confusión + Métricas"
      ],
      "metadata": {
        "id": "TN3WKIZf-FLf"
      }
    },
    {
      "cell_type": "code",
      "source": [
        "#Matriz de confusión parámetros ajustados\n",
        "plot_matrix_c(y_test, y_pred_ajustado,'Matriz de Confusión Random Forest (hparam ajustados)',plt.cm.Blues)"
      ],
      "metadata": {
        "id": "khIYekVg9su8"
      },
      "execution_count": null,
      "outputs": []
    },
    {
      "cell_type": "code",
      "source": [
        "#Resultado métricas de clasificación modelo parámetros ajustados\n",
        "print(classification_report(y_test, y_pred_ajustado, digits=5))"
      ],
      "metadata": {
        "id": "nE-MGzj09uSf"
      },
      "execution_count": null,
      "outputs": []
    },
    {
      "cell_type": "markdown",
      "source": [
        "#### AUC - ROC"
      ],
      "metadata": {
        "id": "lk_yaJw1-NDi"
      }
    },
    {
      "cell_type": "code",
      "source": [
        "plot_auc_roc(y_test, y_pbase_proba, y_ajustado_proba)"
      ],
      "metadata": {
        "id": "p7QfuwK39z8m"
      },
      "execution_count": null,
      "outputs": []
    },
    {
      "cell_type": "markdown",
      "source": [
        "#### Validación Cruzada k - iteraciones"
      ],
      "metadata": {
        "id": "P0JmBrbK-QIp"
      }
    },
    {
      "cell_type": "code",
      "source": [
        "#Validación modelo hiperparámetros pred.\n",
        "base_scores = cross_validation_results(brf, x_test, y_test, 5)\n",
        "for i, item in base_scores.items():\n",
        "    print(f'{i} media: {item.mean()}')"
      ],
      "metadata": {
        "id": "LJXvoFYX98Fz"
      },
      "execution_count": null,
      "outputs": []
    },
    {
      "cell_type": "code",
      "source": [
        "#Validación modelo hiperparámetros ajustados\n",
        "scores = cross_validation_results(rf, x_test, y_test, 5)\n",
        "for i, item in scores.items():\n",
        "    print(f'{i} media: {item.mean()}')"
      ],
      "metadata": {
        "id": "OrOx6uuS-V_X"
      },
      "execution_count": null,
      "outputs": []
    },
    {
      "cell_type": "code",
      "source": [
        "#Plot comparativa validación cruzada k - iteraciones RF\n",
        "figure, axes = plt.subplots(nrows=4, ncols=2, figsize=(12,12))\n",
        "\n",
        "metrics = ['accuracy', 'precision','recall','f1']\n",
        "\n",
        "figure.suptitle('5-fold Validation', fontsize=24, fontweight='bold')\n",
        "\n",
        "for index, metric in enumerate(metrics):\n",
        "    pivot = 0\n",
        "    plot_cvalidation('Random Forest (default params) test mean:'+str(round(base_scores[f'test_{metric}'].mean(),5)),f'{metric.capitalize()}',base_scores[f'train_{metric}'],base_scores[f'test_{metric}'], axes[index,pivot])\n",
        "    pivot+=1\n",
        "    plot_cvalidation(f'Random Forest (params ajustados)  test mean:'+str(round(scores[f'test_{metric}'].mean(),5)),f'{metric.capitalize()}',scores[f'train_{metric}'],scores[f'test_{metric}'], axes[index,pivot])\n",
        "figure.tight_layout()\n",
        "plt.show()"
      ],
      "metadata": {
        "id": "OJpkVCMw-cox"
      },
      "execution_count": null,
      "outputs": []
    },
    {
      "cell_type": "markdown",
      "metadata": {
        "id": "5ERP86WOf5lU"
      },
      "source": [
        "## Support Vector Machine"
      ]
    },
    {
      "cell_type": "code",
      "source": [
        "#Búsqueda hiperparámetros\n",
        "param_grid = {'C': [1,2,2.5,3,4,5],\n",
        "              'gamma': [1,1.25,1.50,1.75],\n",
        "              'kernel': ['rbf','linear','sigmoid'],\n",
        "             'cache_size':[1000]}\n",
        "base_svm = svm.SVC()\n",
        "\n",
        "params_svm = search_hyperparams(base_svm, param_grid, x_train, y_train)\n",
        "\n",
        "params_svm['probability'] = True\n",
        "\n",
        "params_svm"
      ],
      "metadata": {
        "id": "6zzCDZPlfg3Q"
      },
      "execution_count": null,
      "outputs": []
    },
    {
      "cell_type": "code",
      "source": [
        "params_svm = {'C': 5,\n",
        "              'gamma': 1.75,\n",
        "              'kernel': 'rbf',\n",
        "             'cache_size':1000,\n",
        "              'probability': True\n",
        "}"
      ],
      "metadata": {
        "id": "MIfjk44mD_wY"
      },
      "execution_count": null,
      "outputs": []
    },
    {
      "cell_type": "markdown",
      "source": [
        "### Entrenamiento Hiperparámetros ajustados"
      ],
      "metadata": {
        "id": "HU_9MGH7ECU7"
      }
    },
    {
      "cell_type": "code",
      "execution_count": null,
      "metadata": {
        "id": "Pa88aKw8f_Qe"
      },
      "outputs": [],
      "source": [
        "#Instacia de modelo con hiperparámetros\n",
        "svmc = svm.SVC(**params_svm)\n",
        "\n",
        "svc = train_model(svmc, x_train, y_train)"
      ]
    },
    {
      "cell_type": "code",
      "execution_count": null,
      "metadata": {
        "id": "sNFIxTl_lLjs"
      },
      "outputs": [],
      "source": [
        "#Resultado Predicción (pyspatialml)\n",
        "result = rasters.predict(estimator=svc, progress=True)\n",
        "#Resultado Probabilidades Predicción (pyspatialml)\n",
        "result_probs = rasters.predict_proba(estimator=svc, progress=True)"
      ]
    },
    {
      "cell_type": "code",
      "execution_count": null,
      "metadata": {
        "id": "L5ZhhXmulLY5"
      },
      "outputs": [],
      "source": [
        "#Plot mapa con predicciones\n",
        "plot_map(result)"
      ]
    },
    {
      "cell_type": "code",
      "execution_count": null,
      "metadata": {
        "id": "setoRHnk_yZq"
      },
      "outputs": [],
      "source": [
        "#Estos resultados fueron utilizados para el análisis de métricas del modelo\n",
        "#Resultados predicción (scikit-learn)\n",
        "y_pred_svm = svc.predict(x_test)\n",
        "#Resultados probabilidades predicción (scikit-learn)\n",
        "y_svm_proba = svc.predict_proba(x_test)[::,1]"
      ]
    },
    {
      "cell_type": "markdown",
      "source": [
        "### Entrenamiento Hiperparámetros predeterminados"
      ],
      "metadata": {
        "id": "V78Ouz5IEelm"
      }
    },
    {
      "cell_type": "code",
      "execution_count": null,
      "metadata": {
        "id": "H24Omu2A_28z"
      },
      "outputs": [],
      "source": [
        "#Instancia modelo parámetros predeterminados\n",
        "base_svm = svm.SVC(probability=True)\n",
        "base_svm = train_model(base_svm, x_train, y_train)"
      ]
    },
    {
      "cell_type": "code",
      "source": [
        "#Resultado Predicción (pyspatialml)\n",
        "resultb = rasters.predict(estimator=base_svm, progress=True)\n",
        "#Resultado Probabilidades Predicción (pyspatialml)\n",
        "result_probs = rasters.predict_proba(estimator=base_svm, progress=True)"
      ],
      "metadata": {
        "id": "ubYeeO6qEj-2"
      },
      "execution_count": null,
      "outputs": []
    },
    {
      "cell_type": "code",
      "source": [
        "#Plot mapa predicciones\n",
        "plot_map(resultb)"
      ],
      "metadata": {
        "id": "vy27An1RElZi"
      },
      "execution_count": null,
      "outputs": []
    },
    {
      "cell_type": "code",
      "source": [
        "#Estos resultados fueron utilizados para el análisis de métricas del modelo\n",
        "#Resultados predicción (scikit-learn)\n",
        "y_pred_svmb = base_svm.predict(x_test)\n",
        "#Resultados probabilidades predicción (scikit-learn)\n",
        "y_svmb_proba = base_svm.predict_proba(x_test)[::,1]"
      ],
      "metadata": {
        "id": "MgsAq4-yEoFb"
      },
      "execution_count": null,
      "outputs": []
    },
    {
      "cell_type": "markdown",
      "source": [
        "### Métricas"
      ],
      "metadata": {
        "id": "FaGPqVunEqYc"
      }
    },
    {
      "cell_type": "markdown",
      "source": [
        "#### Matríz de Confusión + métricas"
      ],
      "metadata": {
        "id": "FZkq8jIy_Uey"
      }
    },
    {
      "cell_type": "code",
      "source": [
        "#Resultado métricas de validación modelo hparams. ajustados\n",
        "print(classification_report(y_test, y_pred_svmb,digits=5))"
      ],
      "metadata": {
        "id": "ZSUyZ_KcE1t0"
      },
      "execution_count": null,
      "outputs": []
    },
    {
      "cell_type": "code",
      "source": [
        "#Matriz confusión modelo hparams. ajustados\n",
        "plot_matrix_c(y_test, y_pred_svm,'Matriz de Confusión SVM (hparam ajustados)',plt.cm.Blues)"
      ],
      "metadata": {
        "id": "E6WXvq_jE4kw"
      },
      "execution_count": null,
      "outputs": []
    },
    {
      "cell_type": "markdown",
      "source": [
        "#### AUC - ROC"
      ],
      "metadata": {
        "id": "RrS62mVH_d2U"
      }
    },
    {
      "cell_type": "code",
      "source": [
        "#Gráfico comparativa AUC - ROC\n",
        "plot_auc_roc(y_test, y_svmb_proba, y_svm_proba)"
      ],
      "metadata": {
        "id": "fh9eBvYvE6Cl"
      },
      "execution_count": null,
      "outputs": []
    },
    {
      "cell_type": "markdown",
      "source": [
        "#### Validación cruzada k-iteraciones"
      ],
      "metadata": {
        "id": "-gziyh06_m6-"
      }
    },
    {
      "cell_type": "code",
      "source": [
        "#Validación modelo hparámetros pred.\n",
        "base_scores = cross_validation_results(base_svm, x_test, y_test, 5)\n",
        "\n",
        "for i, item in base_scores.items():\n",
        "    print(f'{i} media: {item.mean()}')"
      ],
      "metadata": {
        "id": "UsxnQgRCE7M8"
      },
      "execution_count": null,
      "outputs": []
    },
    {
      "cell_type": "code",
      "source": [
        "#Validación modelo hparámetros ajustados\n",
        "scores = cross_validation_results(svc, x_test, y_test, 5)\n",
        "\n",
        "for i, item in scores.items():\n",
        "    print(f'{i} media: {item.mean()}')"
      ],
      "metadata": {
        "id": "sKxHZquSE8gX"
      },
      "execution_count": null,
      "outputs": []
    },
    {
      "cell_type": "code",
      "source": [
        "#Comparación validación cruzada k-iteraciones\n",
        "figure, axes = plt.subplots(nrows=4, ncols=2, figsize=(12,12))\n",
        "\n",
        "metrics = ['accuracy', 'precision','recall','f1']\n",
        "\n",
        "figure.suptitle('5-fold Validation', fontsize=24, fontweight='bold')\n",
        "\n",
        "for index, metric in enumerate(metrics):\n",
        "    pivot = 0\n",
        "    plot_cvalidation('SVM (default params) test mean:'+str(round(base_scores[f'test_{metric}'].mean(),5)),f'{metric.capitalize()}',base_scores[f'train_{metric}'],base_scores[f'test_{metric}'], axes[index,pivot])\n",
        "    pivot+=1\n",
        "    plot_cvalidation(f'SVM (params ajustados)  test mean:'+str(round(scores[f'test_{metric}'].mean(),5)),f'{metric.capitalize()}',scores[f'train_{metric}'],scores[f'test_{metric}'], axes[index,pivot])\n",
        "figure.tight_layout()\n",
        "plt.show()"
      ],
      "metadata": {
        "id": "qwhX2xGwE9qv"
      },
      "execution_count": null,
      "outputs": []
    }
  ],
  "metadata": {
    "colab": {
      "provenance": [],
      "collapsed_sections": [
        "tPDNQYJXDze8",
        "sL8pZp23fxqd",
        "p3NBPj7uxOGM",
        "Hv3Xp1iBxHVw",
        "-wYzMaZHFHyJ"
      ],
      "mount_file_id": "1kYoCNBWqOKsY6RsRQbDbbWLX7yYskJJ9",
      "authorship_tag": "ABX9TyO2ZErsFNpbWha7tW+AU2CM",
      "include_colab_link": true
    },
    "kernelspec": {
      "display_name": "Python 3",
      "name": "python3"
    },
    "language_info": {
      "name": "python"
    }
  },
  "nbformat": 4,
  "nbformat_minor": 0
}